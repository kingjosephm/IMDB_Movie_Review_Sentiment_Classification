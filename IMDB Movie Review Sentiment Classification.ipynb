{
 "cells": [
  {
   "cell_type": "markdown",
   "metadata": {},
   "source": [
    "# Sentiment Classification using Kaggle's IMDB Movie Scores Dataset\n",
    "\n",
    "The following compares model performance among some well-known supervised and unsupervised sentiment classification methods using [Kaggle's IMDB movie review dataset](https://www.kaggle.com/lakshmi25npathi/imdb-dataset-of-50k-movie-reviews/notebooks). This dataset contains 50k movie reviews classified as either positive or negative reviews."
   ]
  },
  {
   "cell_type": "code",
   "execution_count": 63,
   "metadata": {},
   "outputs": [],
   "source": [
    "import pandas as pd\n",
    "import json, warnings, nltk, multiprocessing\n",
    "from scipy import stats\n",
    "from collections import defaultdict\n",
    "from tqdm import tqdm\n",
    "import numpy as np\n",
    "from time import time\n",
    "from scipy import stats\n",
    "import seaborn as sns\n",
    "import matplotlib.pyplot as plt\n",
    "from sklearn.model_selection import train_test_split\n",
    "from clean_text import clean_text\n",
    "\n",
    "# NLP modules\n",
    "#nltk.download('wordnet') #  Necessary for first use\n",
    "#nltk.download('vader_lexicon')\n",
    "from nltk.sentiment.vader import SentimentIntensityAnalyzer\n",
    "from textblob import TextBlob\n",
    "from sklearn.feature_extraction.text import CountVectorizer, TfidfVectorizer\n",
    "from nltk.tokenize import RegexpTokenizer\n",
    "from sklearn.naive_bayes import BernoulliNB, MultinomialNB\n",
    "\n",
    "from tensorflow.keras.preprocessing.text import Tokenizer\n",
    "from tensorflow.keras.preprocessing.sequence import pad_sequences\n",
    "from tensorflow.keras.backend import clear_session\n",
    "from tensorflow.keras import Sequential\n",
    "from tensorflow.keras.layers import Embedding, LSTM, Dense, SpatialDropout1D\n",
    "from tensorflow.keras.optimizers import Adam\n",
    "from tensorflow.keras.callbacks import EarlyStopping\n",
    "from tensorflow.keras.initializers import Constant\n",
    "\n",
    "# Performance metrics\n",
    "from sklearn.metrics import confusion_matrix, roc_auc_score\n",
    "\n",
    "pd.set_option('display.max_colwidth', None)\n",
    "pd.set_option(\"display.max_rows\", 100)\n",
    "pd.set_option(\"display.max_columns\", 50)\n",
    "warnings.simplefilter(action='ignore', category=FutureWarning)"
   ]
  },
  {
   "cell_type": "markdown",
   "metadata": {},
   "source": [
    "### Function for performance metrics"
   ]
  },
  {
   "cell_type": "code",
   "execution_count": 2,
   "metadata": {},
   "outputs": [],
   "source": [
    "def metrics(y_true, y_pred):\n",
    "    '''\n",
    "    Calculates binary classification performance metrics for a given model.\n",
    "    :param y_true: array_like, truth values as int\n",
    "    :param y_pred: array_like, predicted values as int\n",
    "    :returns: dict, with keys for each metric: \n",
    "        accuracy - proportion of correct predictions out of total predictions\n",
    "        sensitivity - (aka recall), of all true positives reviews how many did we correctly predict as positive\n",
    "        specificity - (aka selectivity/TNR), of all true negatives how many did we correctly predict as negative\n",
    "        precision - of all predicted positive cases how many were actually positive\n",
    "        F-1 score - harmonic/weighted mean of precision and sensitivity scores\n",
    "        ROC-AUC - area under receiver operating characteristic curve\n",
    "        \n",
    "    '''\n",
    "    tn, fp, fn, tp = confusion_matrix(y_true, y_pred).ravel()\n",
    "    \n",
    "    metrics_dict = {}\n",
    "    metrics_dict['accuracy'] = round((tp + tn) / len(y_true), 4)\n",
    "    metrics_dict['sensitivity'] = round(tp / (fn + tp), 4) # aka recall\n",
    "    metrics_dict['specificity'] = round(tn / (tp + fp), 4) # aka TNR\n",
    "    metrics_dict['precision'] = round(tp / (tp + fp), 4)\n",
    "    metrics_dict['f1'] = round(2 * (metrics_dict['precision'] * metrics_dict['sensitivity']) \\\n",
    "                        / (metrics_dict['precision'] + metrics_dict['sensitivity']), 4)\n",
    "    metrics_dict['roc_auc'] = round(roc_auc_score(y_true, y_pred), 4)\n",
    "    \n",
    "    return metrics_dict"
   ]
  },
  {
   "cell_type": "markdown",
   "metadata": {},
   "source": [
    "### Read data"
   ]
  },
  {
   "cell_type": "code",
   "execution_count": 3,
   "metadata": {},
   "outputs": [
    {
     "name": "stdout",
     "output_type": "stream",
     "text": [
      "(50000, 2)\n"
     ]
    },
    {
     "data": {
      "text/html": [
       "<div>\n",
       "<style scoped>\n",
       "    .dataframe tbody tr th:only-of-type {\n",
       "        vertical-align: middle;\n",
       "    }\n",
       "\n",
       "    .dataframe tbody tr th {\n",
       "        vertical-align: top;\n",
       "    }\n",
       "\n",
       "    .dataframe thead th {\n",
       "        text-align: right;\n",
       "    }\n",
       "</style>\n",
       "<table border=\"1\" class=\"dataframe\">\n",
       "  <thead>\n",
       "    <tr style=\"text-align: right;\">\n",
       "      <th></th>\n",
       "      <th>review</th>\n",
       "      <th>sentiment</th>\n",
       "    </tr>\n",
       "  </thead>\n",
       "  <tbody>\n",
       "    <tr>\n",
       "      <th>0</th>\n",
       "      <td>One of the other reviewers has mentioned that after watching just 1 Oz episode you'll be hooked. They are right, as this is exactly what happened with me.&lt;br /&gt;&lt;br /&gt;The first thing that struck me about Oz was its brutality and unflinching scenes of violence, which set in right from the word GO. Trust me, this is not a show for the faint hearted or timid. This show pulls no punches with regards to drugs, sex or violence. Its is hardcore, in the classic use of the word.&lt;br /&gt;&lt;br /&gt;It is called OZ as that is the nickname given to the Oswald Maximum Security State Penitentary. It focuses mainly on Emerald City, an experimental section of the prison where all the cells have glass fronts and face inwards, so privacy is not high on the agenda. Em City is home to many..Aryans, Muslims, gangstas, Latinos, Christians, Italians, Irish and more....so scuffles, death stares, dodgy dealings and shady agreements are never far away.&lt;br /&gt;&lt;br /&gt;I would say the main appeal of the show is due to the fact that it goes where other shows wouldn't dare. Forget pretty pictures painted for mainstream audiences, forget charm, forget romance...OZ doesn't mess around. The first episode I ever saw struck me as so nasty it was surreal, I couldn't say I was ready for it, but as I watched more, I developed a taste for Oz, and got accustomed to the high levels of graphic violence. Not just violence, but injustice (crooked guards who'll be sold out for a nickel, inmates who'll kill on order and get away with it, well mannered, middle class inmates being turned into prison bitches due to their lack of street skills or prison experience) Watching Oz, you may become comfortable with what is uncomfortable viewing....thats if you can get in touch with your darker side.</td>\n",
       "      <td>positive</td>\n",
       "    </tr>\n",
       "    <tr>\n",
       "      <th>1</th>\n",
       "      <td>A wonderful little production. &lt;br /&gt;&lt;br /&gt;The filming technique is very unassuming- very old-time-BBC fashion and gives a comforting, and sometimes discomforting, sense of realism to the entire piece. &lt;br /&gt;&lt;br /&gt;The actors are extremely well chosen- Michael Sheen not only \"has got all the polari\" but he has all the voices down pat too! You can truly see the seamless editing guided by the references to Williams' diary entries, not only is it well worth the watching but it is a terrificly written and performed piece. A masterful production about one of the great master's of comedy and his life. &lt;br /&gt;&lt;br /&gt;The realism really comes home with the little things: the fantasy of the guard which, rather than use the traditional 'dream' techniques remains solid then disappears. It plays on our knowledge and our senses, particularly with the scenes concerning Orton and Halliwell and the sets (particularly of their flat with Halliwell's murals decorating every surface) are terribly well done.</td>\n",
       "      <td>positive</td>\n",
       "    </tr>\n",
       "  </tbody>\n",
       "</table>\n",
       "</div>"
      ],
      "text/plain": [
       "                                                                                                                                                                                                                                                                                                                                                                                                                                                                                                                                                                                                                                                                                                                                                                                                                                                                                                                                                                                                                                                                                                                                                                                                                                                                                                                                                                                                                                                                                                                                                                                                                                                                                                                                                                                                                              review  \\\n",
       "0  One of the other reviewers has mentioned that after watching just 1 Oz episode you'll be hooked. They are right, as this is exactly what happened with me.<br /><br />The first thing that struck me about Oz was its brutality and unflinching scenes of violence, which set in right from the word GO. Trust me, this is not a show for the faint hearted or timid. This show pulls no punches with regards to drugs, sex or violence. Its is hardcore, in the classic use of the word.<br /><br />It is called OZ as that is the nickname given to the Oswald Maximum Security State Penitentary. It focuses mainly on Emerald City, an experimental section of the prison where all the cells have glass fronts and face inwards, so privacy is not high on the agenda. Em City is home to many..Aryans, Muslims, gangstas, Latinos, Christians, Italians, Irish and more....so scuffles, death stares, dodgy dealings and shady agreements are never far away.<br /><br />I would say the main appeal of the show is due to the fact that it goes where other shows wouldn't dare. Forget pretty pictures painted for mainstream audiences, forget charm, forget romance...OZ doesn't mess around. The first episode I ever saw struck me as so nasty it was surreal, I couldn't say I was ready for it, but as I watched more, I developed a taste for Oz, and got accustomed to the high levels of graphic violence. Not just violence, but injustice (crooked guards who'll be sold out for a nickel, inmates who'll kill on order and get away with it, well mannered, middle class inmates being turned into prison bitches due to their lack of street skills or prison experience) Watching Oz, you may become comfortable with what is uncomfortable viewing....thats if you can get in touch with your darker side.   \n",
       "1                                                                                                                                                                                                                                                                                                                                                                                                                                                                                                                                                                                                                                                                                                                                                                                             A wonderful little production. <br /><br />The filming technique is very unassuming- very old-time-BBC fashion and gives a comforting, and sometimes discomforting, sense of realism to the entire piece. <br /><br />The actors are extremely well chosen- Michael Sheen not only \"has got all the polari\" but he has all the voices down pat too! You can truly see the seamless editing guided by the references to Williams' diary entries, not only is it well worth the watching but it is a terrificly written and performed piece. A masterful production about one of the great master's of comedy and his life. <br /><br />The realism really comes home with the little things: the fantasy of the guard which, rather than use the traditional 'dream' techniques remains solid then disappears. It plays on our knowledge and our senses, particularly with the scenes concerning Orton and Halliwell and the sets (particularly of their flat with Halliwell's murals decorating every surface) are terribly well done.   \n",
       "\n",
       "  sentiment  \n",
       "0  positive  \n",
       "1  positive  "
      ]
     },
     "execution_count": 3,
     "metadata": {},
     "output_type": "execute_result"
    }
   ],
   "source": [
    "df = pd.read_csv('../data/IMDB Dataset.csv')\n",
    "print(df.shape)\n",
    "df.head(2)"
   ]
  },
  {
   "cell_type": "markdown",
   "metadata": {},
   "source": [
    "To make things easier, I create a new integer feature that converts the string positive/negative review."
   ]
  },
  {
   "cell_type": "code",
   "execution_count": 4,
   "metadata": {},
   "outputs": [],
   "source": [
    "df['positive_sent'] = df['sentiment'].apply(lambda x: 1 if x == 'positive' else 0)"
   ]
  },
  {
   "cell_type": "markdown",
   "metadata": {},
   "source": [
    "# EDA"
   ]
  },
  {
   "cell_type": "markdown",
   "metadata": {},
   "source": [
    "### Class distribution"
   ]
  },
  {
   "cell_type": "code",
   "execution_count": 5,
   "metadata": {},
   "outputs": [
    {
     "name": "stdout",
     "output_type": "stream",
     "text": [
      "negative    25000\n",
      "positive    25000\n",
      "Name: sentiment, dtype: int64\n"
     ]
    },
    {
     "data": {
      "image/png": "[encoded data removed]",
      "text/plain": [
       "<Figure size 432x288 with 1 Axes>"
      ]
     },
     "metadata": {
      "needs_background": "light"
     },
     "output_type": "display_data"
    }
   ],
   "source": [
    "x = df.sentiment.value_counts()\n",
    "sns.barplot(x.index, x)\n",
    "print(x)"
   ]
  },
  {
   "cell_type": "markdown",
   "metadata": {},
   "source": [
    "Classes are balanced in the data, meaning we can rely on all of the performance metrics above. If, for example, the data were highly imbalanced (e.g. nearly all positive or negative reviews), accuracy measures would provide little meaningful information. The reason being, it's mechanically easier to correctly predict the dominant class given its numerical abundance."
   ]
  },
  {
   "cell_type": "markdown",
   "metadata": {},
   "source": [
    "### Distribution of words by class"
   ]
  },
  {
   "cell_type": "code",
   "execution_count": 6,
   "metadata": {},
   "outputs": [
    {
     "data": {
      "image/png": "[encoded data removed]",
      "text/plain": [
       "<Figure size 576x432 with 1 Axes>"
      ]
     },
     "metadata": {},
     "output_type": "display_data"
    }
   ],
   "source": [
    "sns.set(rc={'figure.figsize':(8,6)})\n",
    "positive = df[df.sentiment=='positive']['review'].str.split().map(lambda x: len(x)) # pd.Series with total word count per row\n",
    "negative = df[df.sentiment=='negative']['review'].str.split().map(lambda x: len(x))\n",
    "sns.kdeplot(positive, label='positive review') # kernel density plot\n",
    "sns.kdeplot(negative, label='negative review')\n",
    "plt.legend()\n",
    "plt.title('Distribution of words in review by class')\n",
    "plt.xlabel('Number of words in review')\n",
    "plt.show()"
   ]
  },
  {
   "cell_type": "markdown",
   "metadata": {},
   "source": [
    "Are there apparent differences in the number of words used in positive versus negative reviews? Not a lot, though the mass of negative reviews is slightly more concentrated (i.e. higher) on the left, indicating negative reviews are somewhat shorter. We see this below."
   ]
  },
  {
   "cell_type": "code",
   "execution_count": 7,
   "metadata": {},
   "outputs": [
    {
     "name": "stdout",
     "output_type": "stream",
     "text": [
      "232.85 positive review\n",
      "229.46 negative review\n",
      "3.38 word difference\n"
     ]
    }
   ],
   "source": [
    "print(round(positive.mean(), 2), 'positive review')\n",
    "print(round(negative.mean(), 2), 'negative review')\n",
    "print(round(positive.mean() - negative.mean(), 2), 'word difference')"
   ]
  },
  {
   "cell_type": "markdown",
   "metadata": {},
   "source": [
    "### Distribution of characters in review by class"
   ]
  },
  {
   "cell_type": "code",
   "execution_count": 8,
   "metadata": {},
   "outputs": [
    {
     "data": {
      "image/png": "[encoded data removed]",
      "text/plain": [
       "<Figure size 576x432 with 1 Axes>"
      ]
     },
     "metadata": {},
     "output_type": "display_data"
    }
   ],
   "source": [
    "positive = df[df['sentiment']=='positive']['review'].str.split().apply(lambda x : [len(i) for i in x]) # pd.Series with list of individual word lengths per row\n",
    "negative = df[df['sentiment']=='negative']['review'].str.split().apply(lambda x : [len(i) for i in x])\n",
    "sns.kdeplot(positive.map(lambda x: np.mean(x)), label='positive review')\n",
    "sns.kdeplot(negative.map(lambda x: np.mean(x)), label='negative review')\n",
    "plt.legend()\n",
    "plt.title('Distribution of average word length in review by class')\n",
    "plt.xlabel('Average word length in review')\n",
    "plt.show()"
   ]
  },
  {
   "cell_type": "code",
   "execution_count": 9,
   "metadata": {},
   "outputs": [
    {
     "name": "stdout",
     "output_type": "stream",
     "text": [
      "4.66 positive review\n",
      "4.62 negative review\n",
      "0.03 word difference\n"
     ]
    }
   ],
   "source": [
    "positive = positive.map(lambda x: np.mean(x)) # pd.Series where each row is average word length per row\n",
    "negative = negative.map(lambda x: np.mean(x))\n",
    "print(round(positive.mean(), 2), 'positive review')\n",
    "print(round(negative.mean(), 2), 'negative review')\n",
    "print(round(positive.mean() - negative.mean(), 2), 'word difference')"
   ]
  },
  {
   "cell_type": "markdown",
   "metadata": {},
   "source": [
    "We see that negative reviews tend to use slightly shorter words, on average, than positive reviews."
   ]
  },
  {
   "cell_type": "markdown",
   "metadata": {},
   "source": [
    "# Data cleaning"
   ]
  },
  {
   "cell_type": "markdown",
   "metadata": {},
   "source": [
    "I clean the reviewer text data with `clean_text`, a class I created that among other things removes non-characters (e.g. URLs, emojis), removes contractions, lowercases words, removes punctuation, converts numbers to characters, and removes stopwords. Optionally, it can lemmatize words, correct spelling, enforce a minimum character length of words, or enforce a minimum word frequency."
   ]
  },
  {
   "cell_type": "code",
   "execution_count": 10,
   "metadata": {},
   "outputs": [
    {
     "name": "stdout",
     "output_type": "stream",
     "text": [
      "Total cleaning run time: 64.0 seconds\n"
     ]
    }
   ],
   "source": [
    "start = time()\n",
    "clean = clean_text().run(df['review'], lemmatize=False)\n",
    "print('Total cleaning run time:', round(time() - start, 0), 'seconds')"
   ]
  },
  {
   "cell_type": "code",
   "execution_count": 11,
   "metadata": {},
   "outputs": [
    {
     "name": "stdout",
     "output_type": "stream",
     "text": [
      "Review, original: \n",
      " One of the other reviewers has mentioned that after watching just 1 Oz episode you'll be hooked. They are right, as this is exactly what happened with me.<br /><br />The first thing that struck me about Oz was its brutality and unflinching scenes of violence, which set in right from the word GO. Trust me, this is not a show for the faint hearted or timid. This show pulls no punches with regards to drugs, sex or violence. Its is hardcore, in the classic use of the word.<br /><br />It is called OZ as that is the nickname given to the Oswald Maximum Security State Penitentary. It focuses mainly on Emerald City, an experimental section of the prison where all the cells have glass fronts and face inwards, so privacy is not high on the agenda. Em City is home to many..Aryans, Muslims, gangstas, Latinos, Christians, Italians, Irish and more....so scuffles, death stares, dodgy dealings and shady agreements are never far away.<br /><br />I would say the main appeal of the show is due to the fact that it goes where other shows wouldn't dare. Forget pretty pictures painted for mainstream audiences, forget charm, forget romance...OZ doesn't mess around. The first episode I ever saw struck me as so nasty it was surreal, I couldn't say I was ready for it, but as I watched more, I developed a taste for Oz, and got accustomed to the high levels of graphic violence. Not just violence, but injustice (crooked guards who'll be sold out for a nickel, inmates who'll kill on order and get away with it, well mannered, middle class inmates being turned into prison bitches due to their lack of street skills or prison experience) Watching Oz, you may become comfortable with what is uncomfortable viewing....thats if you can get in touch with your darker side.\n",
      "\n",
      "Review, cleaned: \n",
      " one reviewers mentioned watching one oz episode hooked right exactly happened first thing struck oz brutality unflinching scenes violence set right word go trust show faint hearted timid show pulls punches regards drugs sex violence hardcore classic use word called oz nickname given oswald maximum security state penitentary focuses mainly emerald city experimental section prison cells glass fronts face inwards privacy high agenda city home many aryans muslims gangstas latinos christians italians irish scuffles death stares dodgy dealings shady agreements never far away would say main appeal show due fact goes shows would dare forget pretty pictures painted mainstream audiences forget charm forget romance oz mess around first episode ever saw struck nasty surreal could say ready watched developed taste oz got accustomed high levels graphic violence violence injustice crooked guards sold nickel inmates kill order get away well mannered middle class inmates turned prison bitches due lack street skills prison experience watching oz may become comfortable uncomfortable viewing get touch darker side\n"
     ]
    }
   ],
   "source": [
    "print('Review, original: \\n', df['review'].head(1).values[0])\n",
    "print('\\nReview, cleaned: \\n', clean.head(1).values[0])"
   ]
  },
  {
   "cell_type": "markdown",
   "metadata": {},
   "source": [
    "### Word frequency"
   ]
  },
  {
   "cell_type": "markdown",
   "metadata": {},
   "source": [
    "Having removed English stopwords from the text (e.g. me, they, be), let's explore word frequency in order to remove words below a certain threshold frequency. As shown below, there are 144,917 unique words in this dataset. Of these, 73,308 appear only once. Most of these are misspellings or simply irregular words and hence best removed, which I do below."
   ]
  },
  {
   "cell_type": "code",
   "execution_count": 12,
   "metadata": {},
   "outputs": [],
   "source": [
    "temp = [i.split() for i in clean] \n",
    "freq = defaultdict(int)  # Get freq of each word across all documents\n",
    "for indiv_doc in temp:\n",
    "    for token in indiv_doc:\n",
    "        freq[token] += 1\n",
    "        \n",
    "word_freq = pd.DataFrame.from_dict(freq, orient='index')\\\n",
    "    .reset_index().rename(columns={'index': 'word', 0: 'freq'})"
   ]
  },
  {
   "cell_type": "code",
   "execution_count": 13,
   "metadata": {},
   "outputs": [
    {
     "name": "stdout",
     "output_type": "stream",
     "text": [
      "count    144917.000000\n",
      "mean         41.037063\n",
      "std         536.498508\n",
      "min           1.000000\n",
      "25%           1.000000\n",
      "50%           1.000000\n",
      "75%           6.000000\n",
      "max       85848.000000\n",
      "Name: freq, dtype: float64\n"
     ]
    }
   ],
   "source": [
    "print(word_freq['freq'].describe())"
   ]
  },
  {
   "cell_type": "code",
   "execution_count": 14,
   "metadata": {},
   "outputs": [
    {
     "name": "stdout",
     "output_type": "stream",
     "text": [
      "Number of words that appear only once in corpus: 73308\n"
     ]
    }
   ],
   "source": [
    "print(f\"Number of words that appear only once in corpus: {len(word_freq[word_freq['freq']==1])}\")"
   ]
  },
  {
   "cell_type": "code",
   "execution_count": 15,
   "metadata": {},
   "outputs": [
    {
     "name": "stdout",
     "output_type": "stream",
     "text": [
      "Some examples of rare words:\n"
     ]
    },
    {
     "data": {
      "text/plain": [
       "140      oldtimebbc\n",
       "155          polari\n",
       "197      halliwells\n",
       "315          petter\n",
       "376        discerns\n",
       "431       dressedup\n",
       "522      guesthosts\n",
       "525    handselected\n",
       "681       finsished\n",
       "692         schemed\n",
       "Name: word, dtype: object"
      ]
     },
     "execution_count": 15,
     "metadata": {},
     "output_type": "execute_result"
    }
   ],
   "source": [
    "print('Some examples of rare words:')\n",
    "word_freq[word_freq['freq']==1]['word'].head(10)"
   ]
  },
  {
   "cell_type": "code",
   "execution_count": 16,
   "metadata": {},
   "outputs": [],
   "source": [
    "# Keep words if used >1 time across corpus\n",
    "clean = clean_text().remove_infreq_words(clean, min_word_freq=2)"
   ]
  },
  {
   "cell_type": "markdown",
   "metadata": {},
   "source": [
    "### Lemmatization"
   ]
  },
  {
   "cell_type": "markdown",
   "metadata": {},
   "source": [
    "Finally, I *lemmatize* words, e.g. convert plural nouns to singular, infinitive verbs to present tense. I use NLTK's part-of-speech tagger that classifies words into their part of speech (e.g. adjective, adverb) and then lematizes the word. I prefer lemmatization to [stemming](https://medium.com/@tusharsri/nlp-a-quick-guide-to-stemming-60f1ca5db49e) as the latter typically yields less accurate results due to declination or conjugation of words for their particular part-of-speech use.<sup>\\([1](https://nlp.stanford.edu/IR-book/html/htmledition/stemming-and-lemmatization-1.html)\\)</sup>"
   ]
  },
  {
   "cell_type": "code",
   "execution_count": 17,
   "metadata": {},
   "outputs": [
    {
     "name": "stdout",
     "output_type": "stream",
     "text": [
      "Total cleaning run time: 796.0 seconds\n"
     ]
    }
   ],
   "source": [
    "start = time()\n",
    "df['review_clean'] = clean_text().lematizer(clean)\n",
    "print('Total cleaning run time:', round(time() - start, 0), 'seconds')"
   ]
  },
  {
   "cell_type": "markdown",
   "metadata": {},
   "source": [
    "### Train-test split\n",
    "\n",
    "To evaluate model performance on unseen data, we split the data into train and test sets using scikit-learn's `train_test_split` method. Both the original, unprocessed review is included alongside the cleaned review. "
   ]
  },
  {
   "cell_type": "code",
   "execution_count": 18,
   "metadata": {},
   "outputs": [],
   "source": [
    "X_train, X_test, y_train, y_test = train_test_split(df[['review', 'review_clean']], df['positive_sent'], test_size=0.2, \n",
    "                                                    random_state=123)"
   ]
  },
  {
   "cell_type": "code",
   "execution_count": 19,
   "metadata": {},
   "outputs": [
    {
     "name": "stdout",
     "output_type": "stream",
     "text": [
      "(40000, 2)\n",
      "(10000, 2)\n"
     ]
    }
   ],
   "source": [
    "print(X_train.shape)\n",
    "print(X_test.shape)"
   ]
  },
  {
   "cell_type": "markdown",
   "metadata": {},
   "source": [
    "# Unsupervised sentiment classification\n",
    "\n",
    "Unsupervised learning is a family of machine learning algorithms that use data with no existing truth labels. Although the IMDB dataset contains truth labels, for later comparison with better-known supervised NLP algorithms (e.g. Naive Bayes, LSTM) I generate predictions using two unsupervised sentiment analysis algorithms: VADER and TextBlob. In particular, because these two algorithms are lexicon- rather than learning-based, I calculate predictions directly for the test subset."
   ]
  },
  {
   "cell_type": "markdown",
   "metadata": {},
   "source": [
    "## Valence Aware Dictionary and sEntiment Reasoner (VADER)\n",
    "\n",
    "VADER is a popular a rule/lexicon-based sentiment analyzer. Lexicon approaches use a pre-defined dictionary of words and phrases, which are rated for polarity and intensity. VADER's lexicon contains about 7,500 sentiment features, which are scored each scored between extremely negative [-4] to extremely positive [+4]) by a panel human experts. Words not included in the lexicon are awarded a neutral sentiment of 0. VADER also makes use of the grammatical structure of documents (e.g. punctuation, capitalization, contrasting conjunctions). To calculate the compound sentiment score of a given document, VADER calculates the sum of the sentiment of all features in that document, and normalizes to [-1, 1]. <sup>\\([2](https://medium.com/ro-data-team-blog/nlp-how-does-nltk-vader-calculate-sentiment-6c32d0f5046b)\\)</sup> Further information and source code can be found at VADER's [GitHub](https://github.com/cjhutto/vaderSentiment)."
   ]
  },
  {
   "cell_type": "code",
   "execution_count": 20,
   "metadata": {},
   "outputs": [],
   "source": [
    "sid = SentimentIntensityAnalyzer() # instantiate VADER"
   ]
  },
  {
   "cell_type": "markdown",
   "metadata": {},
   "source": [
    "NLTK's VADER accepts documents as a string; thus, we must iterate individually over each document in the corpus. For each document, `SentimentIntensityAnalyzer`'s `polarity_scores` returns a dictionary of length four. I focus on the last key, `compound`, which offers the normalized polarity (sentiment) score. Because VADER is built to calculate sentiment from the grammatical structure of documents, I calculate sentiment scores using the original, raw reviews."
   ]
  },
  {
   "cell_type": "code",
   "execution_count": 21,
   "metadata": {},
   "outputs": [
    {
     "name": "stdout",
     "output_type": "stream",
     "text": [
      "{'neg': 0.138, 'neu': 0.792, 'pos': 0.07, 'compound': -0.9187}\n",
      "Actual rating: 0 (negative)\n"
     ]
    }
   ],
   "source": [
    "print(sid.polarity_scores(X_test['review'].values[0]))\n",
    "print(\"Actual rating:\", y_test.iloc[0], '(negative)')"
   ]
  },
  {
   "cell_type": "code",
   "execution_count": 22,
   "metadata": {},
   "outputs": [
    {
     "name": "stdout",
     "output_type": "stream",
     "text": [
      "Total model run time: 20.0 seconds\n"
     ]
    }
   ],
   "source": [
    "start = time()\n",
    "lst = []\n",
    "for i in range(len(X_test)):\n",
    "    pred = sid.polarity_scores(X_test.iloc[i].values[0])['compound']\n",
    "    lst.append(pred)\n",
    "vader = pd.Series(lst, index=y_test.index)\n",
    "print('Total model run time:', round(time() - start, 0), 'seconds')"
   ]
  },
  {
   "cell_type": "markdown",
   "metadata": {},
   "source": [
    "Finally, because this is a classification exercise (i.e. the truth values are categories, not continuous sentiment values), we convert positive sentiment scores to 1 and negative scores to 0."
   ]
  },
  {
   "cell_type": "code",
   "execution_count": 23,
   "metadata": {},
   "outputs": [],
   "source": [
    "vader = np.where(vader > 0, 1, 0)"
   ]
  },
  {
   "cell_type": "code",
   "execution_count": 24,
   "metadata": {},
   "outputs": [],
   "source": [
    "metrics_dict = {}\n",
    "metrics_dict['vader'] = metrics(y_test, vader)"
   ]
  },
  {
   "cell_type": "code",
   "execution_count": 25,
   "metadata": {},
   "outputs": [
    {
     "name": "stdout",
     "output_type": "stream",
     "text": [
      "VADER performance:\n",
      "accuracy : 0.6923\n",
      "sensitivity : 0.8552\n",
      "specificity : 0.3957\n",
      "precision : 0.6463\n",
      "f1 : 0.7362\n",
      "roc_auc : 0.6916\n"
     ]
    }
   ],
   "source": [
    "print('VADER performance:')\n",
    "for key, value in metrics_dict['vader'].items():\n",
    "    print(key, ':', value)"
   ]
  },
  {
   "cell_type": "markdown",
   "metadata": {},
   "source": [
    "Out-of-the-box VADER performs well in classifying sentiment scores with these data. It correctly classifiees the sentiment in 69.23% of reviews in the test set. VADER's performance, however, differs considerably between positive and negative reviews. On the one hand, it correctly classifies 85.52% of all positive reviews; yet on the other, it only correctly classifies 39.57% of negative reviews. If one were particularly interested in positive or negative reviews it would be advisable to adjust the classifer threshold using a precision-recall curve and/or F-score. For parsimony, and because the goal of this exercise is accuracy performance, I forego this additional step."
   ]
  },
  {
   "cell_type": "markdown",
   "metadata": {},
   "source": [
    "## TextBlob\n",
    "\n",
    "TextBlob is an NLP library offering a host of tools, including parts-of-speech tagging, sentiment analysis, and noun phrase extraction, among others. Further information and source code can be found at TextBlob's [GitHub](https://github.com/sloria/textblob). \n",
    "\n",
    "Like VADER, TextBlob accepts individual documents as strings, meaning we must iterate over all documents to calculate a sentiment vector. `TextBlob().sentiment` returns a namedtuple, where the first element is the polarity (sentiment) score with a range [-1.0, 1.0] and the second is the subjectivity score with range [0.0, 1.0]. Since TextBlob is built to handle raw text, we use the original, raw reviews to generate predictions.\n"
   ]
  },
  {
   "cell_type": "code",
   "execution_count": 26,
   "metadata": {},
   "outputs": [
    {
     "name": "stdout",
     "output_type": "stream",
     "text": [
      "Sentiment(polarity=-0.07177083333333334, subjectivity=0.6366666666666666)\n",
      "Actual rating: 0 (negative)\n"
     ]
    }
   ],
   "source": [
    "print(TextBlob(X_test.iloc[0].values[0]).sentiment)\n",
    "print(\"Actual rating:\", y_test.iloc[0], '(negative)')"
   ]
  },
  {
   "cell_type": "code",
   "execution_count": 27,
   "metadata": {},
   "outputs": [
    {
     "name": "stdout",
     "output_type": "stream",
     "text": [
      "Total model run time: 12.0 seconds\n"
     ]
    }
   ],
   "source": [
    "start = time()\n",
    "lst = []\n",
    "for i in range(len(X_test)):\n",
    "    pred = TextBlob(X_test.iloc[i].values[0]).sentiment.polarity\n",
    "    lst.append(pred)\n",
    "textblob = pd.Series(lst, index=y_test.index).apply(lambda x: 1 if x > 0 else 0)\n",
    "print('Total model run time:', round(time() - start, 0), 'seconds')"
   ]
  },
  {
   "cell_type": "code",
   "execution_count": 28,
   "metadata": {},
   "outputs": [],
   "source": [
    "metrics_dict['textblob'] = metrics(y_test, textblob)"
   ]
  },
  {
   "cell_type": "code",
   "execution_count": 29,
   "metadata": {},
   "outputs": [
    {
     "name": "stdout",
     "output_type": "stream",
     "text": [
      "TextBlob performance:\n",
      "accuracy : 0.6809\n",
      "sensitivity : 0.9428\n",
      "specificity : 0.2717\n",
      "precision : 0.6198\n",
      "f1 : 0.7479\n",
      "roc_auc : 0.6798\n"
     ]
    }
   ],
   "source": [
    "print('TextBlob performance:')\n",
    "for key, value in metrics_dict['textblob'].items():\n",
    "    print(key, ':', value)"
   ]
  },
  {
   "cell_type": "markdown",
   "metadata": {},
   "source": [
    "As with VADER, TextBlob performs well with no tuning. TextBlob's accuracy is even marginally better than VADER. Even more than VADER though, we see large performance differences between classes; while the model correctly classifies 94% of positive reviews, it only correctly classifies 27% of negative reviews."
   ]
  },
  {
   "cell_type": "markdown",
   "metadata": {},
   "source": [
    "# Supervised sentiment classification"
   ]
  },
  {
   "cell_type": "markdown",
   "metadata": {},
   "source": [
    "## Naive Bayes classifier\n",
    "\n",
    "Naive Bayes is a family of simple, supervised learning algorithms that use Bayes' theorem combined with a strong \"naive\" assumption of conditional independence between features given the value of the outcome variable. Although this assumption is frequently violated in many real-world applications, naive Bayes algorithms often work well as classifiers (e.g. especially in document classification and spam filtering), though they tend to be poor estimators. An explanation for this paradox can be found [here](https://www.cs.unb.ca/~hzhang/publications/FLAIRS04ZhangH.pdf); essentially, the answer lies in the distribution of dependence within a class often cancelling each other out. Compared to more sophisticiated classifiers, naive Bayes classifiers are extremely fast and scalable. \\[[3](https://scikit-learn.org/stable/modules/naive_bayes.html)\\]\n",
    "\n",
    "This naive Bayes classifier model is based on a \"bag of words\" (BOW) approach, which converts text (words or word combinations) into numerical representation for analysis. The BOW approach, however, only focuses on the number of times a given word appears in a document, not the order of words (as compared to more sophisticiated context-dependent algorithms like BERT). Specifically, I use sklearn's `CountVectorizer`, which counts the number of tokens present  per document among all tokens in the corpus. By default, `CountVectorizer` removes punctuation and changes words lowercase; I also remove non-alphanumeric characters with NLTK's regex tokenizer and English stopwords. Code and inspiration for this method were drawn in part from [this article](https://towardsdatascience.com/sentiment-analysis-introduction-to-naive-bayes-algorithm-96831d77ac91).\n",
    "\n",
    "Because there is per-se no default algorithm for sklearn's Naive Bayes API, I began by comparing model performance across algorithms. I also experiment with two other hyperparameter n-gram, and vectorizer."
   ]
  },
  {
   "cell_type": "markdown",
   "metadata": {},
   "source": [
    "### Hyperparameter: Naive Bayes algorithm"
   ]
  },
  {
   "cell_type": "code",
   "execution_count": 30,
   "metadata": {},
   "outputs": [],
   "source": [
    "cv = CountVectorizer(stop_words='english', ngram_range=(1,1), \n",
    "            tokenizer=RegexpTokenizer(r'[a-zA-Z0-9]+').tokenize) # monogram\n",
    "train_counts = cv.fit_transform(X_train['review_clean']) # scipy.sparse.csr.csr_matrix\n",
    "test_counts = cv.transform(X_test['review_clean']) # use `transform` instead of `fit_transform` to ensure same feature dims"
   ]
  },
  {
   "cell_type": "code",
   "execution_count": 31,
   "metadata": {},
   "outputs": [
    {
     "name": "stdout",
     "output_type": "stream",
     "text": [
      "Total model run time: 0.0 seconds\n",
      "Total model run time: 0.0 seconds\n"
     ]
    }
   ],
   "source": [
    "start = time()\n",
    "BNB = BernoulliNB()\n",
    "BNB.fit(train_counts, y_train)\n",
    "bern_predictions = BNB.predict(test_counts) # returns np.ndarray\n",
    "print('Total model run time:', round(time() - start, 0), 'seconds')\n",
    "\n",
    "start = time()\n",
    "MNB = MultinomialNB()\n",
    "MNB.fit(train_counts, y_train)\n",
    "mult_predictions = MNB.predict(test_counts) # returns np.ndarray\n",
    "print('Total model run time:', round(time() - start, 0), 'seconds')"
   ]
  },
  {
   "cell_type": "code",
   "execution_count": 32,
   "metadata": {},
   "outputs": [
    {
     "name": "stdout",
     "output_type": "stream",
     "text": [
      "BernoulliNB performance:\n",
      "accuracy : 0.8453\n",
      "sensitivity : 0.8106\n",
      "specificity : 0.9393\n",
      "precision : 0.8723\n",
      "f1 : 0.8403\n",
      "roc_auc : 0.8454\n",
      "\n",
      "MultinomialNB performance:\n",
      "accuracy : 0.8543\n",
      "sensitivity : 0.8367\n",
      "specificity : 0.8975\n",
      "precision : 0.8683\n",
      "f1 : 0.8522\n",
      "roc_auc : 0.8544\n"
     ]
    }
   ],
   "source": [
    "print(\"BernoulliNB performance:\")\n",
    "for key, value in metrics(y_test, bern_predictions).items():\n",
    "    print(key, ':', value)\n",
    "    \n",
    "print(\"\\nMultinomialNB performance:\")\n",
    "for key, value in metrics(y_test, mult_predictions).items():\n",
    "    print(key, ':', value)"
   ]
  },
  {
   "cell_type": "markdown",
   "metadata": {},
   "source": [
    "True to form, the naive Bayes model trains very quickly and exhibits decent classification performance! Performance between the Bernoulli and Multinomial classifiers are very similar; I'll call it for Multinomial. "
   ]
  },
  {
   "cell_type": "markdown",
   "metadata": {},
   "source": [
    "### Hyperparmeter: N-gram"
   ]
  },
  {
   "cell_type": "code",
   "execution_count": 33,
   "metadata": {},
   "outputs": [
    {
     "name": "stdout",
     "output_type": "stream",
     "text": [
      "accuracy : 0.8543\n",
      "sensitivity : 0.8367\n",
      "specificity : 0.8975\n",
      "precision : 0.8683\n",
      "f1 : 0.8522\n",
      "roc_auc : 0.8544\n"
     ]
    }
   ],
   "source": [
    "cv = CountVectorizer(stop_words='english', ngram_range=(2,2), \n",
    "            tokenizer=RegexpTokenizer(r'[a-zA-Z0-9]+').tokenize) \n",
    "train_counts = cv.fit_transform(X_train['review_clean']) \n",
    "test_counts = cv.transform(X_test['review_clean'])\n",
    "MNB = MultinomialNB()\n",
    "MNB.fit(train_counts, y_train)\n",
    "mult_predictions_ngram = MNB.predict(test_counts) \n",
    "for key, value in metrics(y_test, mult_predictions).items():\n",
    "    print(key, ':', value)"
   ]
  },
  {
   "cell_type": "markdown",
   "metadata": {},
   "source": [
    "Increasing from monograms to bigrams raised performance accuracy nearly 2 percentage points! Supplementary analyses showed performance decreased with trigrams, so we'll stick with bigrams."
   ]
  },
  {
   "cell_type": "markdown",
   "metadata": {},
   "source": [
    "### Hyperparameter: Vectorizer (TF-IDF)"
   ]
  },
  {
   "cell_type": "code",
   "execution_count": 34,
   "metadata": {},
   "outputs": [
    {
     "name": "stdout",
     "output_type": "stream",
     "text": [
      "accuracy : 0.8543\n",
      "sensitivity : 0.8367\n",
      "specificity : 0.8975\n",
      "precision : 0.8683\n",
      "f1 : 0.8522\n",
      "roc_auc : 0.8544\n"
     ]
    }
   ],
   "source": [
    "tfidf = TfidfVectorizer(stop_words='english', ngram_range=(2,2), \n",
    "            tokenizer=RegexpTokenizer(r'[a-zA-Z0-9]+').tokenize) \n",
    "train_counts = tfidf.fit_transform(X_train['review_clean']) \n",
    "test_counts = tfidf.transform(X_test['review_clean'])\n",
    "MNB = MultinomialNB()\n",
    "MNB.fit(train_counts, y_train)\n",
    "mult_predictions_tfidf = MNB.predict(test_counts) \n",
    "for key, value in metrics(y_test, mult_predictions).items():\n",
    "    print(key, ':', value)"
   ]
  },
  {
   "cell_type": "markdown",
   "metadata": {},
   "source": [
    "Term frequency-inverse document frequency (TF-IDF) is a statistic reflecting the importance of a word in a document, defined by the number of times a word appears in a document compared to the number of documents containing the word. For a helpful introduction see [this article](https://towardsdatascience.com/tf-idf-for-document-ranking-from-scratch-in-python-on-real-world-dataset-796d339a4089). Using sklearn's `TfidfVectorizer`, as compared to the `CountVectorizer`, slightly decreases model performance. So we'll stick with the results from the N-gram-optimzed model."
   ]
  },
  {
   "cell_type": "code",
   "execution_count": 35,
   "metadata": {},
   "outputs": [],
   "source": [
    "metrics_dict['naive_bayes'] = metrics(y_test, mult_predictions_ngram)"
   ]
  },
  {
   "cell_type": "markdown",
   "metadata": {},
   "source": [
    "## Word Embeddings, GloVe, and LSTM\n",
    "\n",
    "Word embeddings are dense, distributed real-value vector representations of words, which are often tens or hundreds of dimensions. Each dimension can be thought of as an abstract feature that captures semantic, contextual, and syntactic meanings of words based on their learned usage.<sup>\\[[4](https://medium.com/@b.terryjack/nlp-everything-about-word-embeddings-9ea21f51ccfe)\\]</sup> These dense vector representations contrast with a sparse one-hot vector representations of words (e.g. `CountVectorizer`), which are not only a computationally inefficient way to represent data, but unable to capture the similarity of words as they represent words as independent.\n",
    "\n",
    "The two most popular word embeddings algorithms are [Word2Vec](https://towardsdatascience.com/introduction-to-word-embedding-and-word2vec-652d0c2060fa) and [GloVe](https://nlp.stanford.edu/projects/glove/), which are both unsupervised learning approaches. Originally proposed by Thomas Mikolov and colleagues at Google in 2013,<sup>\\[[5](https://arxiv.org/pdf/1310.4546.pdf)\\]</sup> Word2Vec is built upon a shallow, two-layer feed-forward neural network that relies on one of two architectures: *continuous bag-of-words (CBOW)* or *continuous skip-gram*. Whereas CBOW approach models the target (middle) word given the surrounding context words, skip-gram models the context words given the current word in a sentence. Both approaches require specification of the *context window*, or the number of adjacent words (typically 5-10), to infer the similarity of words. Proposed in 2014 by [Stanford researchers](https://nlp.stanford.edu/pubs/glove.pdf), GloVe offers a different word embedding approach using matrix factorization. Unlike Word2Vec, which infers word meaning based only on local contextual information of words, GloVe relies on both local and *global* word context by aggregating word-word co-occurrence for a corpus (see [this article](https://towardsdatascience.com/light-on-math-ml-intuitive-guide-to-understanding-glove-embeddings-b13b4f19c010) for a more in-depth explanation). The authors of GloVe argue their approach allows this method to better differentiate the specific meaning of words among related words<sup>\\[[6](https://nlp.stanford.edu/projects/glove//)\\]</sup> (though not to the degree of understanding contextual and multiple word meanings as with [contextual word embeddings like ELMo](https://towardsdatascience.com/elmo-contextual-language-embedding-335de2268604) or [transformer-based architectures like BERT](https://towardsdatascience.com/bert-explained-state-of-the-art-language-model-for-nlp-f8b21a9b6270)). In practice, however, both algorithms often perform similarly for many tasks, while the particular dataset and number of embedding dimensions tends to have a larger impact on performance.<sup>\\[[7](https://machinelearninginterview.com/topics/natural-language-processing/what-is-the-difference-between-word2vec-and-glove/)\\]</sup> \n",
    "\n",
    "One of the most promising ideas in NLP is *transfer learning*. Though this can refer to a variety of techniques,<sup>\\[[8](https://ruder.io/state-of-transfer-learning-in-nlp/)\\]</sup> this typically refers to training a supervised model in one task in one domain and applying that trained model to a related task or domain.<sup>\\[[9](https://ruder.io/transfer-learning/)\\]</sup> This approach not only vastly speeds up training time, but also reduces problems associated with modeling an inadequately-sized sample or a sample with insufficient variation. Rather than train an embedding model using the comparably-small IMDB Movie Review dataset, I use pretrained GloVe embeddings available from the [Stanford GloVe Project's website](https://nlp.stanford.edu/projects/glove/). Several versions are available; I use the 2014 Wikipedia edition containing 6 billion tokens and 400k unique words. There are 50d, 100d, 200d, and 300d vectors available for this dataset. I use the 300d variant. \n",
    "\n",
    "Word vectors cannot be directly used to classify sentiment (or any other modeled outcome). Generally, researchers use these vector representations as an input to a stand-alone supervised learning model. In particular, because text data contain temporal dependencies between words in the same document, [recurrent neural network (RNN)](https://towardsdatascience.com/recurrent-neural-networks-d4642c9bc7ce) are best suited to this task. Although it is possible to capture time dependencies with tree-based and feedforward neural networks with properly-engineered features, RNNs share information from upstream inputs via a *hidden state*, providing that information to downstream inputs. I use a variant of RNN called [long short-term memory [LSTM]](http://colah.github.io/posts/2015-08-Understanding-LSTMs/), which are specifically designed to learn long-term dependencies. The core idea of LSTMs is the *cell state*, which acts as the hidden state allowing and allows information to potentially flow through unchanged. Information is added or removed from the cell state by a series of *gates* (e.g. an \"input gate\", \"output gate\", and \"forget gate\"). For brevity, I only use a LSTM model, though it's best to compare performance with another RNN, the [gated recurrent unit [GRU]](https://medium.com/mindboard/lstm-vs-gru-experimental-comparison-955820c21e8b)."
   ]
  },
  {
   "cell_type": "markdown",
   "metadata": {},
   "source": [
    "### Preparation\n",
    "\n",
    "Compared to earlier NLP methods, feeding text data to a neural network involves a few more preprocessing steps."
   ]
  },
  {
   "cell_type": "markdown",
   "metadata": {},
   "source": [
    "#### Embedding dictionary \n",
    "\n",
    "We begin by creating an embedding dictionary, which contains each word in the GloVe file along with its 300d vector representations."
   ]
  },
  {
   "cell_type": "code",
   "execution_count": 80,
   "metadata": {},
   "outputs": [
    {
     "name": "stdout",
     "output_type": "stream",
     "text": [
      "Embedding dictionary contains 400001 unique entries\n"
     ]
    }
   ],
   "source": [
    "word_vector_dim = 300\n",
    "embedding_dict = {}\n",
    "path = f'../data/glove.6B/glove.6B.{word_vector_dim}d.txt'\n",
    "with open(path, 'r') as f:\n",
    "    for line in f:\n",
    "        values = line.split()\n",
    "        word = values[0]\n",
    "        vectors = np.asarray(values[1:], 'float32')\n",
    "        embedding_dict[word] = vectors\n",
    "f.close()\n",
    "\n",
    "print(f\"Embedding dictionary contains {len(embedding_dict.keys())} unique entries\")"
   ]
  },
  {
   "cell_type": "markdown",
   "metadata": {},
   "source": [
    "#### Tokenize words via hashmap"
   ]
  },
  {
   "cell_type": "code",
   "execution_count": 81,
   "metadata": {},
   "outputs": [],
   "source": [
    "def tokenize(lst):\n",
    "    '''\n",
    "    Create a word-to-index dictionary (hashmap) that maps each word in corpus/dataframe to a key, with\n",
    "        a numeric index (value) for each key. These values are represented in sequences.\n",
    "    :param lst: list of lists\n",
    "    :returns:\n",
    "        0) word-to-index dictionary, where length if number of unique words in corpus\n",
    "        1) list of lists, where each sublist is a particular text row in cleaned data. \n",
    "        Elements in this sublist correspond to a value in the word-to-index dictionary, where\n",
    "        key corresponds to word.\n",
    "    '''\n",
    "    tokenizer_obj = Tokenizer() # keeps most frequent n_words-1\n",
    "    tokenizer_obj.fit_on_texts(lst)\n",
    "    sequences = tokenizer_obj.texts_to_sequences(lst)\n",
    "    word_index = tokenizer_obj.word_index\n",
    "    return word_index, sequences"
   ]
  },
  {
   "cell_type": "code",
   "execution_count": 82,
   "metadata": {},
   "outputs": [],
   "source": [
    "word_index, X_train_seq = tokenize(X_train['review_clean'])\n",
    "_, X_test_seq = tokenize(X_test['review_clean'])"
   ]
  },
  {
   "cell_type": "code",
   "execution_count": 83,
   "metadata": {},
   "outputs": [
    {
     "data": {
      "text/plain": [
       "[464, 32, 113, 582, 148]"
      ]
     },
     "execution_count": 83,
     "metadata": {},
     "output_type": "execute_result"
    }
   ],
   "source": [
    "# Example of first 5 words in row 1 of X_train\n",
    "X_train_seq[0][:5]"
   ]
  },
  {
   "cell_type": "markdown",
   "metadata": {},
   "source": [
    "#### Word padding\n",
    "\n",
    "When training a deep learning model via minibatch gradient descent, tokenized sentence sequences must have the same number of timestamps (i.e. words) per minibatch. We use Tensorflow Keras' `pad_sequences` method for this, truncating and padding excess words beyond a threshold with a value of zero."
   ]
  },
  {
   "cell_type": "code",
   "execution_count": 84,
   "metadata": {},
   "outputs": [],
   "source": [
    "def pad_words(sequence, maxlen=200):\n",
    "    '''\n",
    "    Transforms a list of length num_samples of sequences (i.e. list of integers) into 2D numpy array of shape\n",
    "        (num_samples, maxlen). Individual words in a given sequence/list after maxlen are truncated. Short\n",
    "        sequences are padded at the end with zeros so that all sequences have the same length.\n",
    "    :param maxlen: int, maximum length of all sequences\n",
    "    :return: Numpy 2D array of shape (num_samples, maxlen)\n",
    "    '''\n",
    "    return pad_sequences(sequence, maxlen=maxlen, truncating='post', padding='post')"
   ]
  },
  {
   "cell_type": "markdown",
   "metadata": {},
   "source": [
    "There is considerable variation in the number of words per review even among the cleaned reviews (see below). To allow the model to train on a sufficient number of words per review, while also shortening reviews of extreme length I cap the number of words at 200, which corresponds to the 86.55th percentile. An alternative strategy would be to pad using the length of the longest review in the training set (1,376), though this would considerably increase training time."
   ]
  },
  {
   "cell_type": "code",
   "execution_count": 66,
   "metadata": {},
   "outputs": [
    {
     "name": "stdout",
     "output_type": "stream",
     "text": [
      "count    40000.00\n",
      "mean       117.31\n",
      "std         88.62\n",
      "min          3.00\n",
      "25%         63.00\n",
      "50%         87.00\n",
      "75%        143.00\n",
      "max       1376.00\n",
      "Name: review_clean, dtype: float64\n",
      "\n",
      " 86.55125 percentile\n"
     ]
    }
   ],
   "source": [
    "print(round(X_train['review_clean'].str.split()\\\n",
    "            .map(lambda x: len(x)).describe(), 2))\n",
    "\n",
    "print(\"\\n\", stats.percentileofscore(X_train['review_clean'].str.split()\\\n",
    "            .map(lambda x: len(x)), 200), 'percentile')"
   ]
  },
  {
   "cell_type": "code",
   "execution_count": 85,
   "metadata": {},
   "outputs": [],
   "source": [
    "max_words_sequence = 200\n",
    "X_train_pad = pad_words(X_train_seq, max_words_sequence)\n",
    "X_test_pad = pad_words(X_test_seq, max_words_sequence)"
   ]
  },
  {
   "cell_type": "markdown",
   "metadata": {},
   "source": [
    "#### Embedding matrix\n",
    "\n",
    "I create an embedding matrix, which will be used in the input layer of a deep learning model. This is a 43,308 x 300 matrix, where whe number of rows corresponds to the number of unique words in `X_train` and the number of columns corresponds to the number of embedding dimensions. Intiutively, I loop through all unique words in the training set, selecting only these word vectors. An alternative, less efficient approach would be to use all words and their embeddings contained in the GloVe file; however, only about 1/10 are present in the training set, so this would increase training time."
   ]
  },
  {
   "cell_type": "code",
   "execution_count": 86,
   "metadata": {},
   "outputs": [
    {
     "name": "stderr",
     "output_type": "stream",
     "text": [
      "100%|██████████| 43307/43307 [00:00<00:00, 298672.93it/s]\n"
     ]
    }
   ],
   "source": [
    "num_words = len(word_index) + 1 # number of unique words in corpus +1 for reserved 0 index\n",
    "embedding_matrix = np.zeros((num_words, word_vector_dim))\n",
    "\n",
    "for word, i in tqdm(word_index.items()):\n",
    "    if i > num_words:\n",
    "        continue\n",
    "    emb_vec = embedding_dict.get(word)\n",
    "    if emb_vec is not None:\n",
    "        embedding_matrix[i] = emb_vec"
   ]
  },
  {
   "cell_type": "markdown",
   "metadata": {},
   "source": [
    "#### Tensorflow Keras Sequential model\n",
    "\n",
    "[Keras](https://keras.io/) is a high-level deep learning API built on top of Google's [Tensorflow](https://www.tensorflow.org/). Starting with Tensorflow 2, Keras is integrated into Tensorflow. I use a `Sequential` class model, which stacks layers linearly and accepts only one input tensor and outputs only one tensor. \n",
    "\n",
    "I use an `Embedding` layer as the first hidden layer in this model, initializing the weights for this layer with the embedding matrix. I set this layer as untrainable, meaning the weights will not be updated via backpropagation. On the one hand, this means that the model will not update the word vectors to potentially reflect additional information learned about the vocabulary in the training set. Yet on the other, this restriction reduces training time. This layer accepts as an input a 2D tensor with the shape (minibatch_size, max_words_per_review). It outputs a 3D tensor in with a shape (minibatch_size, max_words_per_review, word_vector_dimensions). \n",
    "\n"
   ]
  },
  {
   "cell_type": "code",
   "execution_count": 92,
   "metadata": {},
   "outputs": [],
   "source": [
    "clear_session()\n",
    "\n",
    "model = Sequential() # instantiates Sequential class model\n",
    "\n",
    "embedding = Embedding(input_dim=len(word_index)+1, \n",
    "                      output_dim=word_vector_dim,\n",
    "                      input_length=max_words_sequence, \n",
    "                      embeddings_initializer=Constant(embedding_matrix),\n",
    "                      trainable=False)\n",
    "\n",
    "model.add(embedding)\n",
    "\n",
    "model.add(SpatialDropout1D(0.2))\n",
    "\n",
    "model.add(LSTM(128, dropout=0.2, recurrent_dropout=0.2))\n",
    "\n",
    "model.add(Dense(1, activation='sigmoid'))\n",
    "\n",
    "optimizer = Adam()\n",
    "\n",
    "model.compile(loss='binary_crossentropy', \n",
    "              optimizer=optimizer, \n",
    "              metrics=['accuracy'])"
   ]
  },
  {
   "cell_type": "code",
   "execution_count": 88,
   "metadata": {},
   "outputs": [
    {
     "name": "stdout",
     "output_type": "stream",
     "text": [
      "Model: \"sequential\"\n",
      "_________________________________________________________________\n",
      "Layer (type)                 Output Shape              Param #   \n",
      "=================================================================\n",
      "embedding (Embedding)        (None, 200, 300)          12992400  \n",
      "_________________________________________________________________\n",
      "spatial_dropout1d (SpatialDr (None, 200, 300)          0         \n",
      "_________________________________________________________________\n",
      "lstm (LSTM)                  (None, 128)               219648    \n",
      "_________________________________________________________________\n",
      "dense (Dense)                (None, 1)                 129       \n",
      "=================================================================\n",
      "Total params: 13,212,177\n",
      "Trainable params: 219,777\n",
      "Non-trainable params: 12,992,400\n",
      "_________________________________________________________________\n",
      "None\n"
     ]
    }
   ],
   "source": [
    "print(model.summary())"
   ]
  },
  {
   "cell_type": "markdown",
   "metadata": {},
   "source": [
    "#### Train model\n",
    "\n",
    "Explanation.."
   ]
  },
  {
   "cell_type": "code",
   "execution_count": 89,
   "metadata": {
    "scrolled": true
   },
   "outputs": [
    {
     "name": "stdout",
     "output_type": "stream",
     "text": [
      "Epoch 1/20\n",
      "469/469 - 137s - loss: 0.6914 - accuracy: 0.5205 - val_loss: 0.6895 - val_accuracy: 0.5134\n",
      "Epoch 2/20\n",
      "469/469 - 134s - loss: 0.6718 - accuracy: 0.5677 - val_loss: 0.6894 - val_accuracy: 0.5214\n",
      "Epoch 3/20\n",
      "469/469 - 135s - loss: 0.6837 - accuracy: 0.5288 - val_loss: 0.6858 - val_accuracy: 0.5208\n",
      "Epoch 4/20\n",
      "469/469 - 134s - loss: 0.6877 - accuracy: 0.5218 - val_loss: 0.6913 - val_accuracy: 0.5115\n",
      "Epoch 5/20\n",
      "469/469 - 138s - loss: 0.6783 - accuracy: 0.5465 - val_loss: 0.5950 - val_accuracy: 0.6791\n",
      "Epoch 6/20\n",
      "469/469 - 130s - loss: 0.4924 - accuracy: 0.7781 - val_loss: 0.4220 - val_accuracy: 0.8145\n",
      "Epoch 7/20\n",
      "469/469 - 130s - loss: 0.3945 - accuracy: 0.8299 - val_loss: 0.3591 - val_accuracy: 0.8449\n",
      "Epoch 8/20\n",
      "469/469 - 133s - loss: 0.3620 - accuracy: 0.8445 - val_loss: 0.3376 - val_accuracy: 0.8558\n",
      "Epoch 9/20\n",
      "469/469 - 133s - loss: 0.3431 - accuracy: 0.8531 - val_loss: 0.3270 - val_accuracy: 0.8593\n",
      "Epoch 10/20\n",
      "469/469 - 132s - loss: 0.3269 - accuracy: 0.8611 - val_loss: 0.3487 - val_accuracy: 0.8494\n",
      "Epoch 11/20\n",
      "469/469 - 129s - loss: 0.3110 - accuracy: 0.8684 - val_loss: 0.3440 - val_accuracy: 0.8575\n",
      "Epoch 12/20\n",
      "469/469 - 129s - loss: 0.2987 - accuracy: 0.8748 - val_loss: 0.3062 - val_accuracy: 0.8736\n",
      "Epoch 13/20\n",
      "469/469 - 129s - loss: 0.2842 - accuracy: 0.8821 - val_loss: 0.3197 - val_accuracy: 0.8671\n",
      "Epoch 14/20\n",
      "469/469 - 130s - loss: 0.2699 - accuracy: 0.8890 - val_loss: 0.2984 - val_accuracy: 0.8755\n",
      "Epoch 15/20\n",
      "469/469 - 130s - loss: 0.2570 - accuracy: 0.8954 - val_loss: 0.2887 - val_accuracy: 0.8800\n",
      "Epoch 16/20\n",
      "469/469 - 131s - loss: 0.2422 - accuracy: 0.9005 - val_loss: 0.3105 - val_accuracy: 0.8734\n",
      "Epoch 17/20\n",
      "469/469 - 1927s - loss: 0.2321 - accuracy: 0.9066 - val_loss: 0.2932 - val_accuracy: 0.8848\n",
      "Epoch 18/20\n",
      "469/469 - 370s - loss: 0.2186 - accuracy: 0.9125 - val_loss: 0.2923 - val_accuracy: 0.8826\n",
      "Total training time: 73.55 minutes\n"
     ]
    }
   ],
   "source": [
    "start = time()\n",
    "\n",
    "hist = model.fit(X_train_pad, \n",
    "                 y_train, \n",
    "                 batch_size=64,\n",
    "                 epochs=30, \n",
    "                 validation_split=0.25, \n",
    "                 verbose=2,\n",
    "                 callbacks=[EarlyStopping(monitor='val_loss', mode='min',\n",
    "                 patience=3, restore_best_weights=True)])\n",
    "\n",
    "print('Total training time:', round((time() - start) / 60, 2), 'minutes')"
   ]
  }
 ],
 "metadata": {
  "kernelspec": {
   "display_name": "Python 3",
   "language": "python",
   "name": "python3"
  },
  "language_info": {
   "codemirror_mode": {
    "name": "ipython",
    "version": 3
   },
   "file_extension": ".py",
   "mimetype": "text/x-python",
   "name": "python",
   "nbconvert_exporter": "python",
   "pygments_lexer": "ipython3",
   "version": "3.7.4"
  }
 },
 "nbformat": 4,
 "nbformat_minor": 4
}
