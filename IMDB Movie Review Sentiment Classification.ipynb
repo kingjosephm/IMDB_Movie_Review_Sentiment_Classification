{
 "cells": [
  {
   "cell_type": "markdown",
   "metadata": {},
   "source": [
    "# Sentiment Classification using Kaggle's IMDB Movie Scores Dataset\n",
    "\n",
    "In this notebook I compare model performance among some common supervised and unsupervised sentiment classification methods using the well-known [IMDB movie review dataset](https://www.kaggle.com/lakshmi25npathi/imdb-dataset-of-50k-movie-reviews/notebooks). The Kaggle version of this dataset contains 50k movie reviews that are classified as either positive or negative reviews."
   ]
  },
  {
   "cell_type": "code",
   "execution_count": 1,
   "metadata": {},
   "outputs": [],
   "source": [
    "import pandas as pd\n",
    "import json, warnings, nltk, multiprocessing, caffeine, random\n",
    "from scipy import stats\n",
    "from collections import defaultdict\n",
    "from tqdm import tqdm\n",
    "import numpy as np\n",
    "from time import time\n",
    "from scipy import stats\n",
    "import seaborn as sns\n",
    "import matplotlib.pyplot as plt\n",
    "import matplotlib.ticker as mticker\n",
    "from sklearn.model_selection import train_test_split\n",
    "from clean_text import clean_text\n",
    "\n",
    "# NLP modules\n",
    "#nltk.download('wordnet') #  Necessary for first use\n",
    "#nltk.download('vader_lexicon')\n",
    "from nltk.sentiment.vader import SentimentIntensityAnalyzer\n",
    "from textblob import TextBlob\n",
    "from sklearn.feature_extraction.text import CountVectorizer, TfidfVectorizer\n",
    "from nltk.tokenize import RegexpTokenizer\n",
    "from sklearn.naive_bayes import BernoulliNB, MultinomialNB\n",
    "\n",
    "import tensorflow as tf\n",
    "tf.compat.v1.disable_eager_execution() # addresses this issue: https://github.com/tensorflow/tensorflow/issues/38561\n",
    "from tensorflow.keras.preprocessing.text import Tokenizer\n",
    "from tensorflow.keras.preprocessing.sequence import pad_sequences\n",
    "from tensorflow.keras.backend import clear_session\n",
    "from tensorflow.keras import Sequential\n",
    "from tensorflow.keras.layers import Embedding, LSTM, Dense, GlobalMaxPool1D, Dropout, Bidirectional\n",
    "from tensorflow.keras.optimizers import Adam\n",
    "from tensorflow.keras.callbacks import EarlyStopping\n",
    "from tensorflow.keras.initializers import Constant\n",
    "import gensim.models.keyedvectors as word2vec\n",
    "\n",
    "# Performance metrics\n",
    "from sklearn.metrics import confusion_matrix, roc_auc_score\n",
    "\n",
    "pd.set_option('display.max_colwidth', None)\n",
    "pd.set_option(\"display.max_rows\", 100)\n",
    "pd.set_option(\"display.max_columns\", 50)\n",
    "warnings.simplefilter(action='ignore', category=FutureWarning,)"
   ]
  },
  {
   "cell_type": "markdown",
   "metadata": {},
   "source": [
    "### Function for performance metrics"
   ]
  },
  {
   "cell_type": "code",
   "execution_count": 2,
   "metadata": {},
   "outputs": [],
   "source": [
    "def metrics(y_true, y_pred):\n",
    "    '''\n",
    "    Calculates binary classification performance metrics for a given model.\n",
    "    :param y_true: array_like, truth values as int\n",
    "    :param y_pred: array_like, predicted values as int\n",
    "    :returns: dict, with keys for each metric: \n",
    "        accuracy - proportion of correct predictions out of total predictions\n",
    "        sensitivity - (aka recall), of all true positives reviews how many did we correctly predict as positive\n",
    "        specificity - (aka selectivity/TNR), of all true negatives how many did we correctly predict as negative\n",
    "        precision - of all predicted positive cases how many were actually positive\n",
    "        F-1 score - harmonic/weighted mean of precision and sensitivity scores\n",
    "        ROC-AUC - area under receiver operating characteristic curve\n",
    "        \n",
    "    '''\n",
    "    tn, fp, fn, tp = confusion_matrix(y_true, y_pred).ravel()\n",
    "    \n",
    "    metrics_dict = {}\n",
    "    metrics_dict['accuracy'] = round((tp + tn) / len(y_true), 4)\n",
    "    metrics_dict['sensitivity'] = round(tp / (fn + tp), 4) # aka recall\n",
    "    metrics_dict['specificity'] = round(tn / (tn + fp), 4) # aka TNR\n",
    "    metrics_dict['precision'] = round(tp / (tp + fp), 4)\n",
    "    metrics_dict['f1'] = round(2 * (metrics_dict['precision'] * metrics_dict['sensitivity']) \\\n",
    "                        / (metrics_dict['precision'] + metrics_dict['sensitivity']), 4)\n",
    "    metrics_dict['roc_auc'] = round(roc_auc_score(y_true, y_pred), 4)\n",
    "    \n",
    "    return metrics_dict"
   ]
  },
  {
   "cell_type": "markdown",
   "metadata": {},
   "source": [
    "### Read data"
   ]
  },
  {
   "cell_type": "code",
   "execution_count": 3,
   "metadata": {},
   "outputs": [
    {
     "name": "stdout",
     "output_type": "stream",
     "text": [
      "(50000, 2)\n"
     ]
    },
    {
     "data": {
      "text/html": [
       "<div>\n",
       "<style scoped>\n",
       "    .dataframe tbody tr th:only-of-type {\n",
       "        vertical-align: middle;\n",
       "    }\n",
       "\n",
       "    .dataframe tbody tr th {\n",
       "        vertical-align: top;\n",
       "    }\n",
       "\n",
       "    .dataframe thead th {\n",
       "        text-align: right;\n",
       "    }\n",
       "</style>\n",
       "<table border=\"1\" class=\"dataframe\">\n",
       "  <thead>\n",
       "    <tr style=\"text-align: right;\">\n",
       "      <th></th>\n",
       "      <th>review</th>\n",
       "      <th>sentiment</th>\n",
       "    </tr>\n",
       "  </thead>\n",
       "  <tbody>\n",
       "    <tr>\n",
       "      <th>0</th>\n",
       "      <td>One of the other reviewers has mentioned that after watching just 1 Oz episode you'll be hooked. They are right, as this is exactly what happened with me.&lt;br /&gt;&lt;br /&gt;The first thing that struck me about Oz was its brutality and unflinching scenes of violence, which set in right from the word GO. Trust me, this is not a show for the faint hearted or timid. This show pulls no punches with regards to drugs, sex or violence. Its is hardcore, in the classic use of the word.&lt;br /&gt;&lt;br /&gt;It is called OZ as that is the nickname given to the Oswald Maximum Security State Penitentary. It focuses mainly on Emerald City, an experimental section of the prison where all the cells have glass fronts and face inwards, so privacy is not high on the agenda. Em City is home to many..Aryans, Muslims, gangstas, Latinos, Christians, Italians, Irish and more....so scuffles, death stares, dodgy dealings and shady agreements are never far away.&lt;br /&gt;&lt;br /&gt;I would say the main appeal of the show is due to the fact that it goes where other shows wouldn't dare. Forget pretty pictures painted for mainstream audiences, forget charm, forget romance...OZ doesn't mess around. The first episode I ever saw struck me as so nasty it was surreal, I couldn't say I was ready for it, but as I watched more, I developed a taste for Oz, and got accustomed to the high levels of graphic violence. Not just violence, but injustice (crooked guards who'll be sold out for a nickel, inmates who'll kill on order and get away with it, well mannered, middle class inmates being turned into prison bitches due to their lack of street skills or prison experience) Watching Oz, you may become comfortable with what is uncomfortable viewing....thats if you can get in touch with your darker side.</td>\n",
       "      <td>positive</td>\n",
       "    </tr>\n",
       "    <tr>\n",
       "      <th>1</th>\n",
       "      <td>A wonderful little production. &lt;br /&gt;&lt;br /&gt;The filming technique is very unassuming- very old-time-BBC fashion and gives a comforting, and sometimes discomforting, sense of realism to the entire piece. &lt;br /&gt;&lt;br /&gt;The actors are extremely well chosen- Michael Sheen not only \"has got all the polari\" but he has all the voices down pat too! You can truly see the seamless editing guided by the references to Williams' diary entries, not only is it well worth the watching but it is a terrificly written and performed piece. A masterful production about one of the great master's of comedy and his life. &lt;br /&gt;&lt;br /&gt;The realism really comes home with the little things: the fantasy of the guard which, rather than use the traditional 'dream' techniques remains solid then disappears. It plays on our knowledge and our senses, particularly with the scenes concerning Orton and Halliwell and the sets (particularly of their flat with Halliwell's murals decorating every surface) are terribly well done.</td>\n",
       "      <td>positive</td>\n",
       "    </tr>\n",
       "  </tbody>\n",
       "</table>\n",
       "</div>"
      ],
      "text/plain": [
       "                                                                                                                                                                                                                                                                                                                                                                                                                                                                                                                                                                                                                                                                                                                                                                                                                                                                                                                                                                                                                                                                                                                                                                                                                                                                                                                                                                                                                                                                                                                                                                                                                                                                                                                                                                                                                              review  \\\n",
       "0  One of the other reviewers has mentioned that after watching just 1 Oz episode you'll be hooked. They are right, as this is exactly what happened with me.<br /><br />The first thing that struck me about Oz was its brutality and unflinching scenes of violence, which set in right from the word GO. Trust me, this is not a show for the faint hearted or timid. This show pulls no punches with regards to drugs, sex or violence. Its is hardcore, in the classic use of the word.<br /><br />It is called OZ as that is the nickname given to the Oswald Maximum Security State Penitentary. It focuses mainly on Emerald City, an experimental section of the prison where all the cells have glass fronts and face inwards, so privacy is not high on the agenda. Em City is home to many..Aryans, Muslims, gangstas, Latinos, Christians, Italians, Irish and more....so scuffles, death stares, dodgy dealings and shady agreements are never far away.<br /><br />I would say the main appeal of the show is due to the fact that it goes where other shows wouldn't dare. Forget pretty pictures painted for mainstream audiences, forget charm, forget romance...OZ doesn't mess around. The first episode I ever saw struck me as so nasty it was surreal, I couldn't say I was ready for it, but as I watched more, I developed a taste for Oz, and got accustomed to the high levels of graphic violence. Not just violence, but injustice (crooked guards who'll be sold out for a nickel, inmates who'll kill on order and get away with it, well mannered, middle class inmates being turned into prison bitches due to their lack of street skills or prison experience) Watching Oz, you may become comfortable with what is uncomfortable viewing....thats if you can get in touch with your darker side.   \n",
       "1                                                                                                                                                                                                                                                                                                                                                                                                                                                                                                                                                                                                                                                                                                                                                                                             A wonderful little production. <br /><br />The filming technique is very unassuming- very old-time-BBC fashion and gives a comforting, and sometimes discomforting, sense of realism to the entire piece. <br /><br />The actors are extremely well chosen- Michael Sheen not only \"has got all the polari\" but he has all the voices down pat too! You can truly see the seamless editing guided by the references to Williams' diary entries, not only is it well worth the watching but it is a terrificly written and performed piece. A masterful production about one of the great master's of comedy and his life. <br /><br />The realism really comes home with the little things: the fantasy of the guard which, rather than use the traditional 'dream' techniques remains solid then disappears. It plays on our knowledge and our senses, particularly with the scenes concerning Orton and Halliwell and the sets (particularly of their flat with Halliwell's murals decorating every surface) are terribly well done.   \n",
       "\n",
       "  sentiment  \n",
       "0  positive  \n",
       "1  positive  "
      ]
     },
     "execution_count": 3,
     "metadata": {},
     "output_type": "execute_result"
    }
   ],
   "source": [
    "df = pd.read_csv('../data/IMDB Dataset.csv')\n",
    "print(df.shape)\n",
    "df.head(2)"
   ]
  },
  {
   "cell_type": "markdown",
   "metadata": {},
   "source": [
    "To make things easier, I create a new integer feature that converts the string positive/negative review."
   ]
  },
  {
   "cell_type": "code",
   "execution_count": 4,
   "metadata": {},
   "outputs": [],
   "source": [
    "df['positive_sent'] = df['sentiment'].apply(lambda x: 1 if x == 'positive' else 0)"
   ]
  },
  {
   "cell_type": "markdown",
   "metadata": {},
   "source": [
    "# EDA"
   ]
  },
  {
   "cell_type": "markdown",
   "metadata": {},
   "source": [
    "### Class distribution"
   ]
  },
  {
   "cell_type": "code",
   "execution_count": 5,
   "metadata": {},
   "outputs": [
    {
     "name": "stdout",
     "output_type": "stream",
     "text": [
      "negative    25000\n",
      "positive    25000\n",
      "Name: sentiment, dtype: int64\n"
     ]
    },
    {
     "data": {
      "image/png": "[encoded data removed]",
      "text/plain": [
       "<Figure size 432x288 with 1 Axes>"
      ]
     },
     "metadata": {
      "needs_background": "light"
     },
     "output_type": "display_data"
    }
   ],
   "source": [
    "x = df.sentiment.value_counts()\n",
    "sns.barplot(x.index, x)\n",
    "print(x)"
   ]
  },
  {
   "cell_type": "markdown",
   "metadata": {},
   "source": [
    "Classes are balanced in the data, meaning we can rely on all of the performance metrics above. If, for example, the data were highly imbalanced (e.g. nearly all positive or negative reviews), accuracy measures would provide little meaningful information. The reason being, it's mechanically easier to correctly predict the dominant class given its numerical abundance."
   ]
  },
  {
   "cell_type": "markdown",
   "metadata": {},
   "source": [
    "### Distribution of words by class"
   ]
  },
  {
   "cell_type": "code",
   "execution_count": 6,
   "metadata": {},
   "outputs": [
    {
     "data": {
      "image/png": "[encoded data removed]",
      "text/plain": [
       "<Figure size 576x432 with 1 Axes>"
      ]
     },
     "metadata": {},
     "output_type": "display_data"
    }
   ],
   "source": [
    "sns.set(rc={'figure.figsize':(8,6)})\n",
    "positive = df[df.sentiment=='positive']['review'].str.split().map(lambda x: len(x)) # pd.Series with total word count per row\n",
    "negative = df[df.sentiment=='negative']['review'].str.split().map(lambda x: len(x))\n",
    "sns.kdeplot(positive, label='positive review') # kernel density plot\n",
    "sns.kdeplot(negative, label='negative review')\n",
    "plt.legend()\n",
    "plt.title('Distribution of words in review by class')\n",
    "plt.xlabel('Number of words in review')\n",
    "plt.show()"
   ]
  },
  {
   "cell_type": "markdown",
   "metadata": {},
   "source": [
    "Are there apparent differences in the number of words used in positive versus negative reviews? Not a lot, though the mass of negative reviews is slightly more concentrated (i.e. higher) on the left, indicating negative reviews are somewhat shorter. We see this below."
   ]
  },
  {
   "cell_type": "code",
   "execution_count": 7,
   "metadata": {},
   "outputs": [
    {
     "name": "stdout",
     "output_type": "stream",
     "text": [
      "232.85 positive review\n",
      "229.46 negative review\n",
      "3.38 word difference\n"
     ]
    }
   ],
   "source": [
    "print(round(positive.mean(), 2), 'positive review')\n",
    "print(round(negative.mean(), 2), 'negative review')\n",
    "print(round(positive.mean() - negative.mean(), 2), 'word difference')"
   ]
  },
  {
   "cell_type": "markdown",
   "metadata": {},
   "source": [
    "### Distribution of characters in review by class"
   ]
  },
  {
   "cell_type": "code",
   "execution_count": 8,
   "metadata": {},
   "outputs": [
    {
     "data": {
      "image/png": "[encoded data removed]",
      "text/plain": [
       "<Figure size 576x432 with 1 Axes>"
      ]
     },
     "metadata": {},
     "output_type": "display_data"
    }
   ],
   "source": [
    "positive = df[df['sentiment']=='positive']['review'].str.split().apply(lambda x : [len(i) for i in x]) # pd.Series with list of individual word lengths per row\n",
    "negative = df[df['sentiment']=='negative']['review'].str.split().apply(lambda x : [len(i) for i in x])\n",
    "sns.kdeplot(positive.map(lambda x: np.mean(x)), label='positive review')\n",
    "sns.kdeplot(negative.map(lambda x: np.mean(x)), label='negative review')\n",
    "plt.legend()\n",
    "plt.title('Distribution of average word length in review by class')\n",
    "plt.xlabel('Average word length in review')\n",
    "plt.show()"
   ]
  },
  {
   "cell_type": "code",
   "execution_count": 9,
   "metadata": {},
   "outputs": [
    {
     "name": "stdout",
     "output_type": "stream",
     "text": [
      "4.66 positive review\n",
      "4.62 negative review\n",
      "0.03 word difference\n"
     ]
    }
   ],
   "source": [
    "positive = positive.map(lambda x: np.mean(x)) # pd.Series where each row is average word length per row\n",
    "negative = negative.map(lambda x: np.mean(x))\n",
    "print(round(positive.mean(), 2), 'positive review')\n",
    "print(round(negative.mean(), 2), 'negative review')\n",
    "print(round(positive.mean() - negative.mean(), 2), 'word difference')"
   ]
  },
  {
   "cell_type": "markdown",
   "metadata": {},
   "source": [
    "We see that negative reviews tend to use slightly shorter words, on average, than positive reviews."
   ]
  },
  {
   "cell_type": "markdown",
   "metadata": {},
   "source": [
    "# Data cleaning"
   ]
  },
  {
   "cell_type": "markdown",
   "metadata": {},
   "source": [
    "I clean the reviewer text data with `clean_text`, a class I created that among other things removes non-characters (e.g. URLs, emojis), removes contractions, lowercases words, removes punctuation, converts numbers to characters, and removes stopwords. Optionally, it can lemmatize words, correct spelling, enforce a minimum character length of words, or enforce a minimum word frequency."
   ]
  },
  {
   "cell_type": "code",
   "execution_count": 10,
   "metadata": {},
   "outputs": [
    {
     "name": "stdout",
     "output_type": "stream",
     "text": [
      "Total cleaning run time: 63.0 seconds\n"
     ]
    }
   ],
   "source": [
    "start = time()\n",
    "clean = clean_text().run(df['review'], lemmatize=False)\n",
    "print('Total cleaning run time:', round(time() - start, 0), 'seconds')"
   ]
  },
  {
   "cell_type": "code",
   "execution_count": 11,
   "metadata": {},
   "outputs": [
    {
     "name": "stdout",
     "output_type": "stream",
     "text": [
      "Review, original: \n",
      " One of the other reviewers has mentioned that after watching just 1 Oz episode you'll be hooked. They are right, as this is exactly what happened with me.<br /><br />The first thing that struck me about Oz was its brutality and unflinching scenes of violence, which set in right from the word GO. Trust me, this is not a show for the faint hearted or timid. This show pulls no punches with regards to drugs, sex or violence. Its is hardcore, in the classic use of the word.<br /><br />It is called OZ as that is the nickname given to the Oswald Maximum Security State Penitentary. It focuses mainly on Emerald City, an experimental section of the prison where all the cells have glass fronts and face inwards, so privacy is not high on the agenda. Em City is home to many..Aryans, Muslims, gangstas, Latinos, Christians, Italians, Irish and more....so scuffles, death stares, dodgy dealings and shady agreements are never far away.<br /><br />I would say the main appeal of the show is due to the fact that it goes where other shows wouldn't dare. Forget pretty pictures painted for mainstream audiences, forget charm, forget romance...OZ doesn't mess around. The first episode I ever saw struck me as so nasty it was surreal, I couldn't say I was ready for it, but as I watched more, I developed a taste for Oz, and got accustomed to the high levels of graphic violence. Not just violence, but injustice (crooked guards who'll be sold out for a nickel, inmates who'll kill on order and get away with it, well mannered, middle class inmates being turned into prison bitches due to their lack of street skills or prison experience) Watching Oz, you may become comfortable with what is uncomfortable viewing....thats if you can get in touch with your darker side.\n",
      "\n",
      "Review, cleaned: \n",
      " one reviewers mentioned watching one oz episode hooked right exactly happened first thing struck oz brutality unflinching scenes violence set right word go trust show faint hearted timid show pulls punches regards drugs sex violence hardcore classic use word called oz nickname given oswald maximum security state penitentary focuses mainly emerald city experimental section prison cells glass fronts face inwards privacy high agenda city home many aryans muslims gangstas latinos christians italians irish scuffles death stares dodgy dealings shady agreements never far away would say main appeal show due fact goes shows would dare forget pretty pictures painted mainstream audiences forget charm forget romance oz mess around first episode ever saw struck nasty surreal could say ready watched developed taste oz got accustomed high levels graphic violence violence injustice crooked guards sold nickel inmates kill order get away well mannered middle class inmates turned prison bitches due lack street skills prison experience watching oz may become comfortable uncomfortable viewing get touch darker side\n"
     ]
    }
   ],
   "source": [
    "print('Review, original: \\n', df['review'].head(1).values[0])\n",
    "print('\\nReview, cleaned: \\n', clean.head(1).values[0])"
   ]
  },
  {
   "cell_type": "markdown",
   "metadata": {},
   "source": [
    "### Word frequency"
   ]
  },
  {
   "cell_type": "markdown",
   "metadata": {},
   "source": [
    "Having removed English stopwords from the text (e.g. me, they, be), let's explore word frequency in order to remove words below a certain threshold frequency. As shown below, there are 144,917 unique words in this dataset. Of these, 73,308 appear only once. Most of these are misspellings or simply irregular words and hence best removed, which I do below."
   ]
  },
  {
   "cell_type": "code",
   "execution_count": 12,
   "metadata": {},
   "outputs": [],
   "source": [
    "def count_word_freq(series):\n",
    "    '''\n",
    "    Counts word frequency across all documents (rows) in a pd.Series.\n",
    "    :param series: pd.Series\n",
    "    :returns: pd.DataFrame, where index is each unique word in corpus and column is count of\n",
    "        the occurrence of that word across all documents.\n",
    "    '''\n",
    "    temp = [i.split() for i in series] \n",
    "    freq = defaultdict(int)  # Get freq of each word across all documents\n",
    "    for indiv_doc in temp:\n",
    "        for token in indiv_doc:\n",
    "            freq[token] += 1\n",
    "        \n",
    "    word_freq = pd.DataFrame.from_dict(freq, orient='index')\\\n",
    "        .reset_index().rename(columns={'index': 'word', 0: 'freq'})\n",
    "    return word_freq"
   ]
  },
  {
   "cell_type": "code",
   "execution_count": 13,
   "metadata": {},
   "outputs": [],
   "source": [
    "word_freq = count_word_freq(clean)"
   ]
  },
  {
   "cell_type": "code",
   "execution_count": 14,
   "metadata": {},
   "outputs": [
    {
     "name": "stdout",
     "output_type": "stream",
     "text": [
      "count    144917.000000\n",
      "mean         41.037063\n",
      "std         536.498508\n",
      "min           1.000000\n",
      "25%           1.000000\n",
      "50%           1.000000\n",
      "75%           6.000000\n",
      "max       85848.000000\n",
      "Name: freq, dtype: float64\n"
     ]
    }
   ],
   "source": [
    "print(word_freq['freq'].describe())"
   ]
  },
  {
   "cell_type": "code",
   "execution_count": 15,
   "metadata": {},
   "outputs": [
    {
     "name": "stdout",
     "output_type": "stream",
     "text": [
      "Number of words that appear only once in corpus: 73308\n"
     ]
    }
   ],
   "source": [
    "print(f\"Number of words that appear only once in corpus: {len(word_freq[word_freq['freq']==1])}\")"
   ]
  },
  {
   "cell_type": "code",
   "execution_count": 16,
   "metadata": {},
   "outputs": [
    {
     "name": "stdout",
     "output_type": "stream",
     "text": [
      "Some examples of rare words:\n"
     ]
    },
    {
     "data": {
      "text/plain": [
       "140      oldtimebbc\n",
       "155          polari\n",
       "197      halliwells\n",
       "315          petter\n",
       "376        discerns\n",
       "431       dressedup\n",
       "522      guesthosts\n",
       "525    handselected\n",
       "681       finsished\n",
       "692         schemed\n",
       "Name: word, dtype: object"
      ]
     },
     "execution_count": 16,
     "metadata": {},
     "output_type": "execute_result"
    }
   ],
   "source": [
    "print('Some examples of rare words:')\n",
    "word_freq[word_freq['freq']==1]['word'].head(10)"
   ]
  },
  {
   "cell_type": "code",
   "execution_count": 17,
   "metadata": {},
   "outputs": [],
   "source": [
    "# Keep words if used >=5 time across corpus\n",
    "clean_min5 = clean_text().remove_infreq_words(clean, min_word_freq=5)"
   ]
  },
  {
   "cell_type": "code",
   "execution_count": 18,
   "metadata": {},
   "outputs": [
    {
     "name": "stdout",
     "output_type": "stream",
     "text": [
      "Resulting number of words that appear 5+ times in corpus: 38,179\n"
     ]
    }
   ],
   "source": [
    "print('Resulting number of words that appear 5+ times in corpus: {:,}'.format(len(count_word_freq(clean_min5))))"
   ]
  },
  {
   "cell_type": "markdown",
   "metadata": {},
   "source": [
    "### Lemmatization"
   ]
  },
  {
   "cell_type": "markdown",
   "metadata": {},
   "source": [
    "Finally, I *lemmatize* words, e.g. convert plural nouns to singular, infinitive verbs to present tense. I use NLTK's part-of-speech tagger that classifies words into their part of speech (e.g. adjective, adverb) and then lematizes the word. I prefer lemmatization to [stemming](https://medium.com/@tusharsri/nlp-a-quick-guide-to-stemming-60f1ca5db49e) as the latter typically yields less accurate results due to declination or conjugation of words for their particular part-of-speech use \\([source](https://nlp.stanford.edu/IR-book/html/htmledition/stemming-and-lemmatization-1.html)\\)."
   ]
  },
  {
   "cell_type": "code",
   "execution_count": 19,
   "metadata": {},
   "outputs": [
    {
     "name": "stdout",
     "output_type": "stream",
     "text": [
      "Total cleaning run time: 782.0 seconds\n"
     ]
    }
   ],
   "source": [
    "start = time()\n",
    "df['review_clean'] = clean_text().lematizer(clean_min5)\n",
    "print('Total cleaning run time:', round(time() - start, 0), 'seconds')"
   ]
  },
  {
   "cell_type": "code",
   "execution_count": 20,
   "metadata": {},
   "outputs": [
    {
     "name": "stdout",
     "output_type": "stream",
     "text": [
      "Resulting number of words after lemmatization: 29,518\n"
     ]
    }
   ],
   "source": [
    "total_words = len(count_word_freq(df['review_clean']))\n",
    "print('Resulting number of words after lemmatization: {:,}'.format(total_words))"
   ]
  },
  {
   "cell_type": "markdown",
   "metadata": {},
   "source": [
    "### Train-test split\n",
    "\n",
    "To evaluate model performance on unseen data, we split the data into train and test sets using scikit-learn's `train_test_split` method. Both the original, unprocessed review is included alongside the cleaned review. "
   ]
  },
  {
   "cell_type": "code",
   "execution_count": 21,
   "metadata": {},
   "outputs": [],
   "source": [
    "X_train, X_test, y_train, y_test = train_test_split(df[['review', 'review_clean']], \n",
    "                                                    df['positive_sent'], test_size=0.05, \n",
    "                                                    random_state=999)"
   ]
  },
  {
   "cell_type": "code",
   "execution_count": 22,
   "metadata": {},
   "outputs": [
    {
     "name": "stdout",
     "output_type": "stream",
     "text": [
      "(47500, 2)\n",
      "(2500, 2)\n"
     ]
    }
   ],
   "source": [
    "print(X_train.shape)\n",
    "print(X_test.shape)"
   ]
  },
  {
   "cell_type": "code",
   "execution_count": 23,
   "metadata": {},
   "outputs": [
    {
     "name": "stdout",
     "output_type": "stream",
     "text": [
      "0.5001473684210527\n",
      "0.4972\n"
     ]
    }
   ],
   "source": [
    "print(y_train.mean())\n",
    "print(y_test.mean())"
   ]
  },
  {
   "cell_type": "markdown",
   "metadata": {},
   "source": [
    "# Unsupervised sentiment classification\n",
    "\n",
    "Unsupervised learning is a family of machine learning algorithms that use data with no existing truth labels. Although the IMDB dataset contains truth labels, for later comparison with better-known supervised NLP algorithms (e.g. Naive Bayes, LSTM) I generate predictions using two unsupervised sentiment analysis algorithms: VADER and TextBlob. In particular, because these two algorithms are lexicon- rather than learning-based, I calculate predictions directly for the test subset."
   ]
  },
  {
   "cell_type": "markdown",
   "metadata": {},
   "source": [
    "## Valence Aware Dictionary and sEntiment Reasoner (VADER)\n",
    "\n",
    "VADER is a popular a rule/lexicon-based sentiment analyzer. Lexicon approaches use a pre-defined dictionary of words and phrases, which are rated for polarity and intensity. VADER's lexicon contains about 7,500 sentiment features, which are scored each scored between extremely negative [-4] to extremely positive [+4]) by a panel human experts. Words not included in the lexicon are awarded a neutral sentiment of 0. VADER also makes use of the grammatical structure of documents (e.g. punctuation, capitalization, contrasting conjunctions). To calculate the compound sentiment score of a given document, VADER calculates the sum of the sentiment of all features in that document, and normalizes to [-1, 1] \\([source](https://medium.com/ro-data-team-blog/nlp-how-does-nltk-vader-calculate-sentiment-6c32d0f5046b)\\). Further information and source code can be found at VADER's [GitHub](https://github.com/cjhutto/vaderSentiment)."
   ]
  },
  {
   "cell_type": "code",
   "execution_count": 24,
   "metadata": {},
   "outputs": [],
   "source": [
    "sid = SentimentIntensityAnalyzer() # instantiate VADER"
   ]
  },
  {
   "cell_type": "markdown",
   "metadata": {},
   "source": [
    "NLTK's VADER accepts documents as a string; thus, we must iterate individually over each document in the corpus. For each document, `SentimentIntensityAnalyzer`'s `polarity_scores` returns a dictionary of length four. I focus on the last key, `compound`, which offers the normalized polarity (sentiment) score. Because VADER is built to calculate sentiment from the grammatical structure of documents, I calculate sentiment scores using the original, raw reviews."
   ]
  },
  {
   "cell_type": "code",
   "execution_count": 25,
   "metadata": {},
   "outputs": [
    {
     "name": "stdout",
     "output_type": "stream",
     "text": [
      "{'neg': 0.183, 'neu': 0.77, 'pos': 0.048, 'compound': -0.9627}\n",
      "Actual rating: 0 (negative)\n"
     ]
    }
   ],
   "source": [
    "print(sid.polarity_scores(X_test['review'].values[0]))\n",
    "print(\"Actual rating:\", y_test.iloc[0], '(negative)')"
   ]
  },
  {
   "cell_type": "code",
   "execution_count": 26,
   "metadata": {},
   "outputs": [
    {
     "name": "stdout",
     "output_type": "stream",
     "text": [
      "Total model run time: 5.0 seconds\n"
     ]
    }
   ],
   "source": [
    "start = time()\n",
    "lst = []\n",
    "for i in range(len(X_test)):\n",
    "    pred = sid.polarity_scores(X_test.iloc[i].values[0])['compound']\n",
    "    lst.append(pred)\n",
    "vader = pd.Series(lst, index=y_test.index)\n",
    "print('Total model run time:', round(time() - start, 0), 'seconds')"
   ]
  },
  {
   "cell_type": "markdown",
   "metadata": {},
   "source": [
    "Finally, because this is a classification exercise (i.e. the truth values are categories, not continuous sentiment values), we convert positive sentiment scores to 1 and negative scores to 0."
   ]
  },
  {
   "cell_type": "code",
   "execution_count": 27,
   "metadata": {},
   "outputs": [],
   "source": [
    "vader = np.where(vader > 0, 1, 0)"
   ]
  },
  {
   "cell_type": "code",
   "execution_count": 28,
   "metadata": {},
   "outputs": [],
   "source": [
    "metrics_dict = {}\n",
    "metrics_dict['vader'] = metrics(y_test, vader)"
   ]
  },
  {
   "cell_type": "code",
   "execution_count": 29,
   "metadata": {},
   "outputs": [
    {
     "name": "stdout",
     "output_type": "stream",
     "text": [
      "VADER performance:\n",
      "accuracy : 0.7072\n",
      "sensitivity : 0.8673\n",
      "specificity : 0.5489\n",
      "precision : 0.6553\n",
      "f1 : 0.7465\n",
      "roc_auc : 0.7081\n"
     ]
    }
   ],
   "source": [
    "print('VADER performance:')\n",
    "for key, value in metrics_dict['vader'].items():\n",
    "    print(key, ':', value)"
   ]
  },
  {
   "cell_type": "markdown",
   "metadata": {},
   "source": [
    "Out-of-the-box VADER performs well in classifying sentiment scores with these data. It correctly classifies the sentiment in 70.72% of reviews in the test set. VADER's performance, however, differs considerably between positive and negative reviews. On the one hand, it correctly classifies 86.73% of all positive reviews; yet on the other, it only correctly classifies 41.95% of negative reviews. If one were particularly interested in positive or negative reviews it would be advisable to adjust the classifer threshold using a precision-recall curve and/or F-score. For parsimony, and because the goal of this exercise is accuracy performance, I forego this additional step."
   ]
  },
  {
   "cell_type": "markdown",
   "metadata": {},
   "source": [
    "## TextBlob\n",
    "\n",
    "TextBlob is an NLP library offering a host of tools, including parts-of-speech tagging, sentiment analysis, and noun phrase extraction, among others. Further information and source code can be found at TextBlob's [GitHub](https://github.com/sloria/textblob). \n",
    "\n",
    "Like VADER, TextBlob accepts individual documents as strings, meaning we must iterate over all documents to calculate a sentiment vector. `TextBlob().sentiment` returns a namedtuple, where the first element is the polarity (sentiment) score with a range [-1.0, 1.0] and the second is the subjectivity score with range [0.0, 1.0]. Since TextBlob is built to handle raw text, we use the original, raw reviews to generate predictions.\n"
   ]
  },
  {
   "cell_type": "code",
   "execution_count": 30,
   "metadata": {},
   "outputs": [
    {
     "name": "stdout",
     "output_type": "stream",
     "text": [
      "Sentiment(polarity=-0.3326785714285715, subjectivity=0.567202380952381)\n",
      "Actual rating: 0 (negative)\n"
     ]
    }
   ],
   "source": [
    "print(TextBlob(X_test.iloc[0].values[0]).sentiment)\n",
    "print(\"Actual rating:\", y_test.iloc[0], '(negative)')"
   ]
  },
  {
   "cell_type": "code",
   "execution_count": 31,
   "metadata": {},
   "outputs": [
    {
     "name": "stdout",
     "output_type": "stream",
     "text": [
      "Total model run time: 3.0 seconds\n"
     ]
    }
   ],
   "source": [
    "start = time()\n",
    "lst = []\n",
    "for i in range(len(X_test)):\n",
    "    pred = TextBlob(X_test.iloc[i].values[0]).sentiment.polarity\n",
    "    lst.append(pred)\n",
    "textblob = pd.Series(lst, index=y_test.index).apply(lambda x: 1 if x > 0 else 0)\n",
    "print('Total model run time:', round(time() - start, 0), 'seconds')"
   ]
  },
  {
   "cell_type": "code",
   "execution_count": 32,
   "metadata": {},
   "outputs": [],
   "source": [
    "metrics_dict['textblob'] = metrics(y_test, textblob)"
   ]
  },
  {
   "cell_type": "code",
   "execution_count": 33,
   "metadata": {},
   "outputs": [
    {
     "name": "stdout",
     "output_type": "stream",
     "text": [
      "TextBlob performance:\n",
      "accuracy : 0.6852\n",
      "sensitivity : 0.9356\n",
      "specificity : 0.4375\n",
      "precision : 0.6219\n",
      "f1 : 0.7472\n",
      "roc_auc : 0.6866\n"
     ]
    }
   ],
   "source": [
    "print('TextBlob performance:')\n",
    "for key, value in metrics_dict['textblob'].items():\n",
    "    print(key, ':', value)"
   ]
  },
  {
   "cell_type": "markdown",
   "metadata": {},
   "source": [
    "As with VADER, TextBlob performs well with no tuning. TextBlob's accuracy is marginally worse than VADER. Even more than VADER though, we see large performance differences between classes; while the model correctly classifies about 94% of positive reviews, it only correctly classifies 29% of negative reviews."
   ]
  },
  {
   "cell_type": "markdown",
   "metadata": {},
   "source": [
    "# Supervised sentiment classification"
   ]
  },
  {
   "cell_type": "markdown",
   "metadata": {},
   "source": [
    "## Naive Bayes classifier\n",
    "\n",
    "Naive Bayes is a family of simple, supervised learning algorithms that use Bayes' theorem combined with a strong \"naive\" assumption of conditional independence between features given the value of the outcome variable. Although this assumption is frequently violated in many real-world applications, naive Bayes algorithms often work well as classifiers (e.g. especially in document classification and spam filtering), though they tend to be poor estimators. An explanation for this paradox can be found [here](https://www.cs.unb.ca/~hzhang/publications/FLAIRS04ZhangH.pdf); essentially, the answer lies in the distribution of dependence within a class often cancelling each other out. Compared to more sophisticiated classifiers, naive Bayes classifiers are extremely fast and scalable \\([source](https://scikit-learn.org/stable/modules/naive_bayes.html)\\).\n",
    "\n",
    "This naive Bayes classifier model is based on a \"bag of words\" (BOW) approach, which converts text (words or word combinations) into numerical representation for analysis. The BOW approach, however, only focuses on the number of times a given word appears in a document, not the order of words (as compared to more sophisticiated context-dependent algorithms like BERT). Specifically, I use sklearn's `CountVectorizer`, which counts the number of tokens present  per document among all tokens in the corpus. By default, `CountVectorizer` removes punctuation and changes words lowercase; I also remove non-alphanumeric characters with NLTK's regex tokenizer and English stopwords.\n",
    "\n",
    "Because there is per-se no default algorithm for sklearn's Naive Bayes API, I began by comparing model performance across algorithms. I also experiment with two other hyperparameter n-gram, and vectorizer."
   ]
  },
  {
   "cell_type": "markdown",
   "metadata": {},
   "source": [
    "### Hyperparameter: Naive Bayes algorithm"
   ]
  },
  {
   "cell_type": "code",
   "execution_count": 34,
   "metadata": {},
   "outputs": [],
   "source": [
    "cv = CountVectorizer(stop_words='english', ngram_range=(1,1), \n",
    "            tokenizer=RegexpTokenizer(r'[a-zA-Z0-9]+').tokenize) # monogram\n",
    "train_counts = cv.fit_transform(X_train['review_clean']) # scipy.sparse.csr.csr_matrix\n",
    "test_counts = cv.transform(X_test['review_clean']) # use `transform` instead of `fit_transform` to ensure same feature dims"
   ]
  },
  {
   "cell_type": "code",
   "execution_count": 35,
   "metadata": {},
   "outputs": [
    {
     "name": "stdout",
     "output_type": "stream",
     "text": [
      "Total model run time: 0.0 seconds\n",
      "Total model run time: 0.0 seconds\n"
     ]
    }
   ],
   "source": [
    "start = time()\n",
    "BNB = BernoulliNB()\n",
    "BNB.fit(train_counts, y_train)\n",
    "bern_predictions = BNB.predict(test_counts) # returns np.ndarray\n",
    "print('Total model run time:', round(time() - start, 0), 'seconds')\n",
    "\n",
    "start = time()\n",
    "MNB = MultinomialNB()\n",
    "MNB.fit(train_counts, y_train)\n",
    "mult_predictions = MNB.predict(test_counts) # returns np.ndarray\n",
    "print('Total model run time:', round(time() - start, 0), 'seconds')"
   ]
  },
  {
   "cell_type": "code",
   "execution_count": 36,
   "metadata": {},
   "outputs": [
    {
     "name": "stdout",
     "output_type": "stream",
     "text": [
      "BernoulliNB performance:\n",
      "accuracy : 0.8556\n",
      "sensitivity : 0.8222\n",
      "specificity : 0.8886\n",
      "precision : 0.8795\n",
      "f1 : 0.8499\n",
      "roc_auc : 0.8554\n",
      "\n",
      "MultinomialNB performance:\n",
      "accuracy : 0.8608\n",
      "sensitivity : 0.8399\n",
      "specificity : 0.8815\n",
      "precision : 0.8751\n",
      "f1 : 0.8571\n",
      "roc_auc : 0.8607\n"
     ]
    }
   ],
   "source": [
    "print(\"BernoulliNB performance:\")\n",
    "for key, value in metrics(y_test, bern_predictions).items():\n",
    "    print(key, ':', value)\n",
    "    \n",
    "print(\"\\nMultinomialNB performance:\")\n",
    "for key, value in metrics(y_test, mult_predictions).items():\n",
    "    print(key, ':', value)"
   ]
  },
  {
   "cell_type": "markdown",
   "metadata": {},
   "source": [
    "True to form, the naive Bayes model trains very quickly and exhibits decent classification performance! Performance between the Bernoulli and Multinomial classifiers are very similar; I'll call it for Multinomial. "
   ]
  },
  {
   "cell_type": "markdown",
   "metadata": {},
   "source": [
    "### Hyperparmeter: N-gram"
   ]
  },
  {
   "cell_type": "code",
   "execution_count": 37,
   "metadata": {},
   "outputs": [
    {
     "name": "stdout",
     "output_type": "stream",
     "text": [
      "accuracy : 0.872\n",
      "sensitivity : 0.856\n",
      "specificity : 0.8878\n",
      "precision : 0.883\n",
      "f1 : 0.8693\n",
      "roc_auc : 0.8719\n"
     ]
    }
   ],
   "source": [
    "cv = CountVectorizer(stop_words='english', ngram_range=(2,2), \n",
    "            tokenizer=RegexpTokenizer(r'[a-zA-Z0-9]+').tokenize) # bigram\n",
    "train_counts = cv.fit_transform(X_train['review_clean']) \n",
    "test_counts = cv.transform(X_test['review_clean'])\n",
    "MNB = MultinomialNB()\n",
    "MNB.fit(train_counts, y_train)\n",
    "mult_predictions_ngram = MNB.predict(test_counts) \n",
    "for key, value in metrics(y_test, mult_predictions_ngram).items():\n",
    "    print(key, ':', value)"
   ]
  },
  {
   "cell_type": "markdown",
   "metadata": {},
   "source": [
    "Increasing from monograms to bigrams raised accuracy about one percentage point! Supplementary analyses showed performance decreased with trigrams, so we'll stick with bigrams."
   ]
  },
  {
   "cell_type": "markdown",
   "metadata": {},
   "source": [
    "### Hyperparameter: Vectorizer (TF-IDF)"
   ]
  },
  {
   "cell_type": "code",
   "execution_count": 38,
   "metadata": {},
   "outputs": [
    {
     "name": "stdout",
     "output_type": "stream",
     "text": [
      "accuracy : 0.8764\n",
      "sensitivity : 0.86\n",
      "specificity : 0.8926\n",
      "precision : 0.8879\n",
      "f1 : 0.8737\n",
      "roc_auc : 0.8763\n"
     ]
    }
   ],
   "source": [
    "tfidf = TfidfVectorizer(stop_words='english', ngram_range=(2,2), \n",
    "            tokenizer=RegexpTokenizer(r'[a-zA-Z0-9]+').tokenize) \n",
    "train_counts = tfidf.fit_transform(X_train['review_clean']) \n",
    "test_counts = tfidf.transform(X_test['review_clean'])\n",
    "MNB = MultinomialNB()\n",
    "MNB.fit(train_counts, y_train)\n",
    "mult_predictions_tfidf = MNB.predict(test_counts)\n",
    "for key, value in metrics(y_test, mult_predictions_tfidf).items():\n",
    "    print(key, ':', value)"
   ]
  },
  {
   "cell_type": "markdown",
   "metadata": {},
   "source": [
    "Term frequency-inverse document frequency (TF-IDF) is a statistic reflecting the importance of a word in a document, defined by the number of times a word appears in a document compared to the number of documents containing the word. For a helpful introduction see [this article](https://towardsdatascience.com/tf-idf-for-document-ranking-from-scratch-in-python-on-real-world-dataset-796d339a4089). Using sklearn's `TfidfVectorizer` accuracy increases about 0.4 percentage points. We'll call this our final naive Bayes model.\n",
    "\n",
    "Notably, naive Bayes performs much better than TextBlob or VADER, accurately classifying 87.64% of reviews, which is 16.92 percentage points higher than the VADER model. Moreover, the naive Bayes model performs well with both classes, correctly classifying 86% of positive reviews and 93.19% of negative reviews."
   ]
  },
  {
   "cell_type": "code",
   "execution_count": 39,
   "metadata": {},
   "outputs": [],
   "source": [
    "metrics_dict['naive_bayes'] = metrics(y_test, mult_predictions_tfidf)"
   ]
  },
  {
   "cell_type": "markdown",
   "metadata": {},
   "source": [
    "## Word Embeddings and (Bidirectional-) LSTM\n",
    "\n",
    "Word embeddings are dense, distributed real-value vector representations of words, which are often tens or hundreds of dimensions. Each dimension can be thought of as an abstract feature that captures semantic, contextual, and syntactic meanings of words based on their learned usage \\([source](https://medium.com/@b.terryjack/nlp-everything-about-word-embeddings-9ea21f51ccfe)\\). These dense vector representations contrast with a sparse one-hot vector representations of words (e.g. `CountVectorizer`), which are not only a computationally inefficient way to represent data, but unable to capture the similarity of words as they represent words as independent. Word embeddings allow easy comparison of the similarity of words (e.g. man::woman, king::queen) using measures such as cosine similarity, Euclidean distance, and Jaccard distance (for examples, [see](https://towardsdatascience.com/calculating-document-similarities-using-bert-and-other-models-b2c1a29c9630)). Word embeddings can be learned from a given training set using a host of algorithms; alternatively, users can utilize *pretrained word embeddings* that have been trained using a much larger corpous than is available to most users (e.g. the entire English-language Wikipedia). Pretrained word embeddings are an example of *transfer learning*, i.e. training a supervised model in one task in one domain and applying that trained model to a related task or domain \\([source](https://ruder.io/transfer-learning/)\\). This approach can not only vastly speed up training time, but also reduces problems associated with modeling a small corpus. In this portion of the notebook, I train a deep learning model with three popular (pretrained) word embeddings, allowing me to compare their performance on the IMDB dataset. Specifically, I use: [Word2Vec](https://towardsdatascience.com/introduction-to-word-embedding-and-word2vec-652d0c2060fa), [GloVe](https://nlp.stanford.edu/projects/glove/), and [fastText](https://fasttext.cc/). I also train a baseline model with no pretrained word embedding and compare performance to these pretrained embeddings.\n",
    "\n",
    "**Word2Vec**<br>\n",
    "Originally proposed by [Thomas Mikolov and colleagues at Google in 2013](https://arxiv.org/pdf/1310.4546.pdf), Word2Vec is built upon a shallow, 1-hidden-layer feed-forward neural network that relies on one of two architectures: *continuous bag-of-words (CBOW)* or *continuous skip-gram*. Whereas CBOW approach models the target (middle) word given the surrounding context words, skip-gram models the context words given the current word in a sentence. Both approaches require specification of the *context window*, or the number of adjacent words (typically 5-10), to infer the similarity of words. In practice, CBOW trains faster and often has better representations for common words, though skip-gram is better for infrequent words. I use Word2Vec embeddings trained on the Google News dataset (~100 billion words), containing 300-dimensional vectors for 3 million words and phrases, available from [Google](https://code.google.com/archive/p/word2vec/). These embeddings were constructed using a skip-gram architecture and negative sampling (for details, [see](https://arxiv.org/pdf/1310.4546.pdf)).\n",
    "\n",
    "**Global Vectors (GloVe)**<br>\n",
    "Proposed in 2014 by [Stanford researchers](https://nlp.stanford.edu/pubs/glove.pdf), GloVe offers a different word embedding approach using matrix factorization. Unlike Word2Vec, which infers word meaning based only on local contextual information of words, GloVe relies on both local and *global* word context by aggregating word-word co-occurrence for a corpus (see [this article](https://towardsdatascience.com/light-on-math-ml-intuitive-guide-to-understanding-glove-embeddings-b13b4f19c010) for a more in-depth explanation). The authors of GloVe argue their approach allows this method to better differentiate the specific meaning of words among related words ([source](https://nlp.stanford.edu/projects/glove//)). I use the 300-dimension variant trained using the entire 2014 English Wikipedia website plus [Gigaword5](https://catalog.ldc.upenn.edu/LDC2011T07), which together comprise about 6 billion words, yielding a file of 400k unique words. This file can be downloaded [here](https://nlp.stanford.edu/projects/glove/).\n",
    "\n",
    "**fastText**<br>\n",
    "Developed in 2016 by [Facebook's AI Research lab](https://arxiv.org/abs/1607.04606), fastText builds on the skip-gram architecture of Word2Vec. Whereas Word2Vec and GloVe rely only the word itself to construct embeddings, the fastText API also allows each word to be represented as a bag of character n-grams. For example, with an n-gram length of 3 the word \"squid\" is into \"<sq\", \"squ\", \"qui\", \"uid\", and \"id>\". \"<\" and \">\" are word boundaries, allowing the algorithm to distinguish other words in the vocabulary, such as \"\\<id\\>\". In particular, this enhances performance for rare words and also enables the embeddings to capture prefixes and suffixes ([source](https://towardsdatascience.com/fasttext-under-the-hood-11efc57b2b3)). To conduct an apples-to-apples comparison, however, I only make use of the base word embeddings contained in the fastText file. I use the 300-dimension variant trained on the 2017 English Wikipedia website, which contains about 16 billion words, yielding a file containing 1 million words. This file can be downloaded [here](https://fasttext.cc/docs/en/english-vectors.html).\n",
    "\n",
    "**LSTM**<br>\n",
    "Word vectors cannot be directly used to classify sentiment (or any other modeled outcome). Generally, researchers use these vector representations as an input to a stand-alone supervised learning model. In particular, because text data contain temporal dependencies between words in the same document, [recurrent neural networks (RNNs)](https://towardsdatascience.com/recurrent-neural-networks-d4642c9bc7ce) are best suited to this task. Although it is possible to capture time dependencies with tree-based and feedforward neural networks with properly-engineered features, RNNs are explicitly designed to capture such time dependencies. RNNs act by sharing information from upstream inputs via a *hidden state*, providing that information to downstream inputs. Esssentially, RNNs loop through downstream (and potentially upstream) timestamps passing forward/backward this information. I use a variant of a RNN called [long short-term memory (LSTM)](http://colah.github.io/posts/2015-08-Understanding-LSTMs/), which is specifically designed to learn these long-term dependencies. The core idea of LSTMs is the *cell state* (i.e. LSTM's variant of the hidden state), which allows information to potentially flow through unchanged. Information is added or removed from the cell state by a series of *gates* (e.g. an \"input gate\", \"output gate\", and \"forget gate\"). It's common to compare performance of an LSTM model to a [gated recurrent unit [GRU]](https://medium.com/mindboard/lstm-vs-gru-experimental-comparison-955820c21e8b) model. Separate analyses revealed performance for all embeddings types was very similar, so for this reason I stick with LSTM.\n",
    "    \n",
    "**Bidirectional-LSTM**<br>\n",
    "By default, LSTM/RNNs are *unidirectional*, i.e. only *past* information is provided to future timestamps. While this architecture is suitable for many time series modeling exercises, for some language modeling exercises this can be a shortcoming. Because meaning is gleaned from both upstream and downstream words in textual data, it is often advantageous to use a [bidirectional](https://en.wikipedia.org/wiki/Bidirectional_recurrent_neural_networks) recurrent architecture, which connects two hidden recurrent layers: a forward- and a backward-layer. Perhaps unsurprisingly, using a bidirectional (LSTM) layer drastically improved performance, compared to a undirectional LSTM layer, as supplementary results showed."
   ]
  },
  {
   "cell_type": "markdown",
   "metadata": {},
   "source": [
    "### Preparation\n",
    "\n",
    "Compared to previously discussed methods, feeding text data to a neural network involves a few more preprocessing steps."
   ]
  },
  {
   "cell_type": "markdown",
   "metadata": {},
   "source": [
    "#### Embedding dictionary \n",
    "\n",
    "The first step is to create an embedding dictionary containing each word in the corresponding pretrained word embeddings file (Word2Vec, GloVe, and fastText). For maximum performance I use the 300d variant for each word embedding type."
   ]
  },
  {
   "cell_type": "code",
   "execution_count": 40,
   "metadata": {},
   "outputs": [],
   "source": [
    "def get_word_embeddings(word_embeddings_name):\n",
    "    '''\n",
    "    Reads in pretrained word embeddings, returns embeddings dictionary\n",
    "    :param word_embeddings_name: str, name of particular word embeddings to read from disk\n",
    "    :returns: dict, embeddings dictionary where each key corresponds to a word and the value\n",
    "        associated with that word is a (300,) numpy.ndarray of word vectors.\n",
    "    '''\n",
    "    \n",
    "    if word_embeddings_name == 'glove':\n",
    "        path = '../data/glove.6B/glove.6B.300d.txt'\n",
    "    elif word_embeddings_name == 'word2vec':\n",
    "        word2vec_embeddings = word2vec.KeyedVectors.load_word2vec_format(\"../data/word2vec/GoogleNews-vectors-negative300.bin\", binary=True)\n",
    "    elif word_embeddings_name == 'fasttext':\n",
    "        path = '../data/fasttext/wiki-news-300d-1M.vec'\n",
    "    else:\n",
    "        raise ValueError('Word embeddings name unrecognized!')\n",
    "    \n",
    "    if(word_embeddings_name == 'glove' or word_embeddings_name == 'fasttext'):\n",
    "        embedding_dict = {}\n",
    "        with open(path, 'r') as f:\n",
    "            for line in f:\n",
    "                values = line.split()\n",
    "                word = values[0]\n",
    "                vectors = np.asarray(values[1:], 'float32')\n",
    "                embedding_dict[word] = vectors\n",
    "            f.close()\n",
    "        \n",
    "    else:\n",
    "        embedding_dict = {}\n",
    "        for word in word2vec_embeddings.vocab:\n",
    "            embedding_dict[word] = word2vec_embeddings.word_vec(word)\n",
    "    \n",
    "    print(\"Embedding dictionary contains {:,} unique entries\".format(len(embedding_dict.keys())))\n",
    "    \n",
    "    return embedding_dict"
   ]
  },
  {
   "cell_type": "markdown",
   "metadata": {},
   "source": [
    "#### Embedding matrix\n",
    "\n",
    "Next, I create an embedding matrix, which will be used in the input layer of a deep learning model. This is a 29,445 x 300 matrix, where the number of rows corresponds to the number of unique words in `X_train` (plus 1 for out-of-vocabulary [OOV] words) and the number of columns corresponds to the number of embedding dimensions. Intiutively, I loop through all unique words in the training set, selecting only the word vectors corresponding to these words. An alternative, less efficient approach would be to use all words and their embeddings in word embeddings file; however, the number of words in `X_train` is only a fraction of each embedding file. "
   ]
  },
  {
   "cell_type": "code",
   "execution_count": 41,
   "metadata": {},
   "outputs": [],
   "source": [
    "def create_embedding_matrix(embedding_dict, word_index, vector_dims = 300):\n",
    "    '''\n",
    "    Creates embedding matrix that will be used as constant weights in the embedding layer\n",
    "        of our deep learning model. \n",
    "    :param embedding_dict: dict, embeddings dictionary\n",
    "    :param word_index: dict, word-to-index dictionary\n",
    "    :param vector_dims: int, number of vector dimensions in embedding dictionary\n",
    "    :returns: numpy.ndarray, where row count is number of unique words in X_train and columns\n",
    "        count is number of vector dimensions\n",
    "    '''\n",
    "    num_words = len(word_index) + 1 # number of unique words in corpus +1 for reserved 0 index\n",
    "    embedding_matrix = np.zeros((num_words, vector_dims))\n",
    "\n",
    "    for word, i in tqdm(word_index.items()):\n",
    "        if i > num_words:\n",
    "            continue\n",
    "        emb_vec = embedding_dict.get(word)\n",
    "        if emb_vec is not None:\n",
    "            embedding_matrix[i] = emb_vec\n",
    "    \n",
    "    return embedding_matrix"
   ]
  },
  {
   "cell_type": "markdown",
   "metadata": {},
   "source": [
    "#### Tokenize words via hashmap\n",
    "\n",
    "The third step is to tokenize each document in the corpus. We do this by creating a dictionary that maps each word in the corpus to a numeric index using Tensorflow's `Tokenizer` class. We then transform each document to a sequence of integers, where each integer maps to a key in the word-to-index dictionary. We provide this transformed list of lists to our deep learning models. "
   ]
  },
  {
   "cell_type": "code",
   "execution_count": 42,
   "metadata": {},
   "outputs": [],
   "source": [
    "def tokenize(x_train, x_test):\n",
    "    '''\n",
    "    Create a word-to-index dictionary (hashmap) that maps each word in corpus/dataframe to a key, with\n",
    "        a numeric index (value) for each key. These values are represented in sequences.\n",
    "    :param x_train: pd.Series, where each row is a cleaned review in X_train\n",
    "    :param x_test: pd.Series, where each row is a cleaned review in X_test\n",
    "    :returns:\n",
    "        0) list of lists, where each sublist is a particular text row in cleaned data for X_train\n",
    "        Elements in this sublist correspond to a value in the word-to-index dictionary, where\n",
    "        key corresponds to word.\n",
    "        1) list of lists, where each sublist is a particular text row in cleaned data for X_train\n",
    "        2) word-to-index dictionary for X_train, where length if number of unique words in corpus\n",
    "    '''\n",
    "    tokenizer_obj = Tokenizer(oov_token='OOV') # keeps n-1 words, making token for out-of-vocab words (rather than setting as new token)\n",
    "    tokenizer_obj.fit_on_texts(x_train)\n",
    "    x_train_seq = tokenizer_obj.texts_to_sequences(x_train)\n",
    "    x_test_seq = tokenizer_obj.texts_to_sequences(x_test)\n",
    "    word_index = tokenizer_obj.word_index\n",
    "    return x_train_seq, x_test_seq, word_index"
   ]
  },
  {
   "cell_type": "code",
   "execution_count": 43,
   "metadata": {},
   "outputs": [],
   "source": [
    "X_train_seq, X_test_seq, word_index = tokenize(X_train['review_clean'], X_test['review_clean'])"
   ]
  },
  {
   "cell_type": "code",
   "execution_count": 44,
   "metadata": {},
   "outputs": [
    {
     "data": {
      "text/plain": [
       "[432, 1754, 101, 9908, 995]"
      ]
     },
     "execution_count": 44,
     "metadata": {},
     "output_type": "execute_result"
    }
   ],
   "source": [
    "# Example of first 5 words in row 1 of X_train\n",
    "X_train_seq[0][:5]"
   ]
  },
  {
   "cell_type": "markdown",
   "metadata": {},
   "source": [
    "#### Word padding\n",
    "\n",
    "When training a deep learning model via minibatch gradient descent, tokenized sentence sequences must have the same number of timestamps (i.e. words) per minibatch. We use Tensorflow's `pad_sequences` method for this, truncating and padding excess words beyond a threshold with a value of zero."
   ]
  },
  {
   "cell_type": "code",
   "execution_count": 45,
   "metadata": {},
   "outputs": [],
   "source": [
    "def pad_words(sequence, maxlen=300):\n",
    "    '''\n",
    "    Transforms a list of length num_samples of sequences (i.e. list of integers) into 2D numpy array of shape\n",
    "        (num_samples, maxlen). Individual words in a given sequence/list after maxlen are truncated. Short\n",
    "        sequences are padded at the end with zeros so that all sequences have the same length.\n",
    "    :param maxlen: int, maximum length of all sequences\n",
    "    :return: Numpy 2D array of shape (num_samples, maxlen)\n",
    "    '''\n",
    "    return pad_sequences(sequence, maxlen=maxlen, truncating='post', padding='post')"
   ]
  },
  {
   "cell_type": "markdown",
   "metadata": {},
   "source": [
    "There is considerable variation in the number of words per review even among the cleaned reviews (see below). We use the length of the longest review in X_train and pad all shorter reviews to this length."
   ]
  },
  {
   "cell_type": "code",
   "execution_count": 46,
   "metadata": {},
   "outputs": [
    {
     "name": "stdout",
     "output_type": "stream",
     "text": [
      "count    47500.00\n",
      "mean       115.75\n",
      "std         87.08\n",
      "min          3.00\n",
      "25%         62.00\n",
      "50%         86.00\n",
      "75%        141.00\n",
      "max       1341.00\n",
      "Name: review_clean, dtype: float64\n"
     ]
    }
   ],
   "source": [
    "print(round(X_train['review_clean'].str.split()\\\n",
    "            .map(lambda x: len(x)).describe(), 2))"
   ]
  },
  {
   "cell_type": "code",
   "execution_count": 47,
   "metadata": {},
   "outputs": [],
   "source": [
    "max_words_sequence = df['review_clean'].str.split().map(lambda x: len(x)).max()\n",
    "X_train_pad = pad_words(X_train_seq, max_words_sequence)\n",
    "X_test_pad = pad_words(X_test_seq, max_words_sequence)"
   ]
  },
  {
   "cell_type": "markdown",
   "metadata": {},
   "source": [
    "#### Model performance"
   ]
  },
  {
   "cell_type": "code",
   "execution_count": 48,
   "metadata": {},
   "outputs": [],
   "source": [
    "def plot_model_performance(model):\n",
    "    '''\n",
    "    Generates Matplotlib.pyplot line plot depicting training and validation set accuracy over each epoch.\n",
    "    :param model: tensorflow.python.keras.engine.sequential.Sequential\n",
    "    :returns: Matplotlib.pyplot line plot\n",
    "    '''\n",
    "    sns.set(rc={'figure.figsize':(8,6)})\n",
    "    plt.plot(range(1,len(model.history.history['accuracy'])+1), model.history.history['accuracy'], label=\"Training\")\n",
    "    plt.plot(range(1,len(model.history.history['val_accuracy'])+1), model.history.history['val_accuracy'], label=\"Validation\")\n",
    "    plt.legend()\n",
    "    plt.xlabel(\"Epoch\")\n",
    "    plt.ylabel(\"Binary Cross-Entropy\")\n",
    "    plt.title(\"Training and validation set accuracy by epoch\")\n",
    "    plt.ticklabel_format(style='plain', axis='x', useOffset=False)\n",
    "    plt.gca().xaxis.set_major_locator(mticker.MultipleLocator(1))\n",
    "    plt.show()"
   ]
  },
  {
   "cell_type": "markdown",
   "metadata": {},
   "source": [
    "#### Tensorflow Keras Sequential model\n",
    "\n",
    "[Keras](https://keras.io/) is a high-level deep learning API built on top of Google's [Tensorflow](https://www.tensorflow.org/). Starting with Tensorflow 2, Keras is integrated into Tensorflow. I use a `Sequential` class model, which stacks layers linearly and accepts only one input tensor and outputs only one tensor. \n",
    "\n",
    "There are practically an infinite number of hyperparameter combinations to assess with neural networks. In supplementary analyses I experimented with the number of hidden layers, the type of hidden layer(s) (e.g. LSTM/GRU, bidirectional-LSTM/GRU, dense), the number of nodes per hidden layer, dropout among hidden layers (e.g. traditional dropout, convolutional dropout, recurrent dropout, spatial dropout), learning rate, and mini-batch size. Once it was clear what general model structure performed well (i.e. a modestly-sized bidirectional-LSTM layer, a smaller dense layer, and dropout layers) I used [Optuna](https://optuna.org/) to tune the hyperparameters that impacted performance most (i.e. nodes and dropout amounts) using the GloVe embeddings (results were similar for other pretrained word embeddings). **My goal was to find a model that performed reasonably well in order to compare the accuracy between word embeddings. In the resulting model, I train the same model varying only the word embeddings. Thus, to the extent we observe performance differences in the test set, this is attributable to the particular word embeddings**.\n",
    "\n",
    "The first hidden layer is an `Embedding` layer. *For models using the pretrained embeddings, I initialize the weights in this layer using the word embeddings, setting this layer to non-trainable. For the \"Base\" model (i.e. no pretrained embeddings), the weights in this layer are initialized randomly and set to trainable*. Therefore while the pretrained embeddings are taken as fixed for the former, for the latter the model learns the word embeddings for this particular dataset. Importantly, the dimensions of this embedding layer are the same in all cases. Following this layer I use a `Bidirectional` layer combined with an `LSTM` layer, which include dropout and recurrent dropout. This returns a 3D tensor of shape (i.e. number_of_reviews_in_minibatch, words_per_review, embedding_dimensions). Next, I use a `GlobalMaxPool1D` layer, which reduces the data dimensionality from 3D to 2D with shape (number_of_reviews_in_minibatch, embedding_dimensions) by taking the maximum value along the time dimension. This is followed by a `Dropout` layer, a `Dense` (i.e. feedforward) layer, another dropout layer, and the output layer that uses a sigmoid activation. This activation function output the class *probability*. \n",
    "\n",
    "I use a binary cross-entropy loss function and an `Adam` optimizer with the default learning rate of 0.001. The number of training epochs is a critical hyperparameter. Too few epochs can result in underfitting, while too many can result in overfitting. Rather a-priori specify the number of training epochs I use `EarlyStopping`, which halts learning after performance in the validation set stops improving between epochs, resetting the weights from the best-performing epoch. I set a patience parameter of 2, meaning that if the validation loss continues to increase (i.e. generally, decreased accuracy) for two consecutive epochs the model halts training. I do, however, set a maximum number of epochs at 10. "
   ]
  },
  {
   "cell_type": "markdown",
   "metadata": {},
   "source": [
    "### Baseline: No pretrained word embeddings"
   ]
  },
  {
   "cell_type": "code",
   "execution_count": 49,
   "metadata": {},
   "outputs": [],
   "source": [
    "clear_session() # clear previous Keras session graphs\n",
    "\n",
    "base_model = Sequential()\n",
    "\n",
    "base_model.add(Embedding(input_dim=len(word_index)+1, \n",
    "                  output_dim=300,\n",
    "                  input_length=max_words_sequence,\n",
    "                  trainable=True))\n",
    "\n",
    "# Note - adding dropout in LSTM layer itself is equivalent to adding a dropout layer before\n",
    "\n",
    "base_model.add(Bidirectional(LSTM(units=128, dropout=0.4, \n",
    "               recurrent_dropout=0.3, return_sequences=True))) # default activation tanh\n",
    "\n",
    "base_model.add(GlobalMaxPool1D()) # takes max value over the three dimensions\n",
    "\n",
    "base_model.add(Dropout(0.3))\n",
    "\n",
    "base_model.add(Dense(64, activation='relu'))\n",
    "\n",
    "base_model.add(Dropout(0.2))\n",
    "\n",
    "# Output layer\n",
    "base_model.add(Dense(1, activation='sigmoid')) # faster than softmax with two units\n",
    "\n",
    "# Compile model\n",
    "base_model.compile(loss='binary_crossentropy', \n",
    "     optimizer=Adam(learning_rate=0.001), \n",
    "     metrics=['accuracy'])"
   ]
  },
  {
   "cell_type": "code",
   "execution_count": 50,
   "metadata": {},
   "outputs": [
    {
     "name": "stdout",
     "output_type": "stream",
     "text": [
      "Model: \"sequential\"\n",
      "_________________________________________________________________\n",
      "Layer (type)                 Output Shape              Param #   \n",
      "=================================================================\n",
      "embedding (Embedding)        (None, 1341, 300)         8833500   \n",
      "_________________________________________________________________\n",
      "bidirectional (Bidirectional (None, 1341, 256)         439296    \n",
      "_________________________________________________________________\n",
      "global_max_pooling1d (Global (None, 256)               0         \n",
      "_________________________________________________________________\n",
      "dropout (Dropout)            (None, 256)               0         \n",
      "_________________________________________________________________\n",
      "dense (Dense)                (None, 64)                16448     \n",
      "_________________________________________________________________\n",
      "dropout_1 (Dropout)          (None, 64)                0         \n",
      "_________________________________________________________________\n",
      "dense_1 (Dense)              (None, 1)                 65        \n",
      "=================================================================\n",
      "Total params: 9,289,309\n",
      "Trainable params: 9,289,309\n",
      "Non-trainable params: 0\n",
      "_________________________________________________________________\n"
     ]
    }
   ],
   "source": [
    "base_model.summary()"
   ]
  },
  {
   "cell_type": "markdown",
   "metadata": {},
   "source": [
    "Compared to the other LSTM models (below) with pretrained embeddings, the Base model has considerably more trainable parameters, owing to the trainable embedding layer. The considerable increase in learnable parameters increases the potential for the model to overfit to the training set, without adequate hyperparameter checks (e.g. regularization, dropout)."
   ]
  },
  {
   "cell_type": "code",
   "execution_count": 51,
   "metadata": {},
   "outputs": [
    {
     "name": "stdout",
     "output_type": "stream",
     "text": [
      "Train on 35625 samples, validate on 11875 samples\n",
      "Epoch 1/10\n"
     ]
    },
    {
     "name": "stderr",
     "output_type": "stream",
     "text": [
      "/Users/josephking/PythonVirtualEnv/IMDB_movie_sentiment/lib/python3.7/site-packages/tensorflow/python/keras/engine/training.py:2325: UserWarning: `Model.state_updates` will be removed in a future version. This property should not be used in TensorFlow 2.0, as `updates` are applied automatically.\n",
      "  warnings.warn('`Model.state_updates` will be removed in a future version. '\n"
     ]
    },
    {
     "name": "stdout",
     "output_type": "stream",
     "text": [
      "35625/35625 - 2828s - loss: 0.3420 - accuracy: 0.8463 - val_loss: 0.2607 - val_accuracy: 0.8949\n",
      "Epoch 2/10\n",
      "35625/35625 - 2897s - loss: 0.1732 - accuracy: 0.9354 - val_loss: 0.2642 - val_accuracy: 0.8898\n",
      "Epoch 3/10\n",
      "35625/35625 - 2828s - loss: 0.0972 - accuracy: 0.9651 - val_loss: 0.3259 - val_accuracy: 0.8891\n"
     ]
    }
   ],
   "source": [
    "base_hist = base_model.fit(X_train_pad, \n",
    "              y_train, \n",
    "              batch_size=64, \n",
    "              validation_split=0.25,\n",
    "              verbose=2,\n",
    "              epochs=10,\n",
    "              use_multiprocessing=True,\n",
    "              callbacks=[EarlyStopping(patience=2, restore_best_weights=True)])"
   ]
  },
  {
   "cell_type": "code",
   "execution_count": 52,
   "metadata": {},
   "outputs": [
    {
     "data": {
      "image/png": "[encoded data removed]",
      "text/plain": [
       "<Figure size 576x432 with 1 Axes>"
      ]
     },
     "metadata": {},
     "output_type": "display_data"
    }
   ],
   "source": [
    "plot_model_performance(base_model)"
   ]
  },
  {
   "cell_type": "code",
   "execution_count": 53,
   "metadata": {},
   "outputs": [
    {
     "name": "stdout",
     "output_type": "stream",
     "text": [
      "{'accuracy': 0.894, 'sensitivity': 0.9179, 'specificity': 0.8703, 'precision': 0.875, 'f1': 0.8959, 'roc_auc': 0.8941}\n"
     ]
    }
   ],
   "source": [
    "pred_base = base_model.predict(X_test_pad).flatten() # flatten from 2d to 1d array\n",
    "pred_base = pd.Series(pred_base).apply(lambda x: 1 if x > 0.5 else 0)\n",
    "metrics_dict['base_lstm'] = metrics(y_test, pred_base)\n",
    "print(metrics_dict['base_lstm'])"
   ]
  },
  {
   "cell_type": "markdown",
   "metadata": {},
   "source": [
    "Despite not using any pretrained word embeddings, the baseline model performs quite well, correctly classifying 89.48% of reviews. This is only slightly better than our final naive Bayes model at 87.64%. The base model performs comparably in classifying positive reviews (89.06%) as negative reviews (89.9%). Notably, however, the number of trainable parameters in this model leads to considerable overfitting. The best performance in the validation set was achieved in epoch one, after which performance stopped improving in the validation set (see above). One possibility to mitigate overfitting to the test set would be to freeze the embedding layer after e.g. 1 epoch, allowing the rest of the model to continue to train with the learned embeddings."
   ]
  },
  {
   "cell_type": "markdown",
   "metadata": {},
   "source": [
    "### Word2Vec embeddings"
   ]
  },
  {
   "cell_type": "markdown",
   "metadata": {},
   "source": [
    "#### Embedding dictionary and embedding matrix"
   ]
  },
  {
   "cell_type": "code",
   "execution_count": 54,
   "metadata": {},
   "outputs": [
    {
     "name": "stderr",
     "output_type": "stream",
     "text": [
      " 12%|█▏        | 3532/29444 [00:00<00:00, 35273.86it/s]"
     ]
    },
    {
     "name": "stdout",
     "output_type": "stream",
     "text": [
      "Embedding dictionary contains 3,000,000 unique entries\n"
     ]
    },
    {
     "name": "stderr",
     "output_type": "stream",
     "text": [
      "100%|██████████| 29444/29444 [00:00<00:00, 106206.01it/s]\n"
     ]
    }
   ],
   "source": [
    "w2v_vector_dims = 300\n",
    "w2v_embedding_dict = get_word_embeddings('word2vec')\n",
    "w2v_embedding_matrix = create_embedding_matrix(w2v_embedding_dict, word_index, w2v_vector_dims)"
   ]
  },
  {
   "cell_type": "markdown",
   "metadata": {},
   "source": [
    "#### Overlap between X_train and Word2Vec file"
   ]
  },
  {
   "cell_type": "code",
   "execution_count": 55,
   "metadata": {},
   "outputs": [],
   "source": [
    "# Get tokens in X_test, simply to assess overlap\n",
    "tokenizer_obj = Tokenizer(oov_token='OOV')\n",
    "tokenizer_obj.fit_on_texts(X_test['review_clean'])\n",
    "word_index_test = tokenizer_obj.word_index"
   ]
  },
  {
   "cell_type": "code",
   "execution_count": 56,
   "metadata": {},
   "outputs": [
    {
     "name": "stdout",
     "output_type": "stream",
     "text": [
      "Share of overlapping words in X_train: 75.2%\n",
      "Share of overlapping words in X_test: 83.2%\n"
     ]
    }
   ],
   "source": [
    "intersection_train = [i for i in word_index.keys() if i in w2v_embedding_dict.keys()]\n",
    "intersection_test = [i for i in word_index_test.keys() if i in w2v_embedding_dict.keys()]\n",
    "\n",
    "print('Share of overlapping words in X_train: {}%'.format(round((len(intersection_train)/len(word_index)*100), 1)))\n",
    "print('Share of overlapping words in X_test: {}%'.format(round((len(intersection_test)/len(word_index_test)*100), 1)))"
   ]
  },
  {
   "cell_type": "markdown",
   "metadata": {},
   "source": [
    "One important factor in word embedding performance is the degree of overlap between the embedding file and the training and test datasets. The Word2Vec embeddings were trained using the Google News dataset, which has the least overlap of the three embeddings at 75% and 83% for the training and test sets, respectively."
   ]
  },
  {
   "cell_type": "markdown",
   "metadata": {},
   "source": [
    "#### Train a model using Word2Vec embeddings"
   ]
  },
  {
   "cell_type": "code",
   "execution_count": 57,
   "metadata": {},
   "outputs": [],
   "source": [
    "clear_session()\n",
    "\n",
    "w2v_model = Sequential()\n",
    "\n",
    "w2v_model.add(Embedding(input_dim=len(word_index)+1, \n",
    "                  output_dim=w2v_vector_dims,\n",
    "                  input_length=max_words_sequence, \n",
    "                  embeddings_initializer=Constant(w2v_embedding_matrix),\n",
    "                  trainable=False))\n",
    "\n",
    "w2v_model.add(Bidirectional(LSTM(units=128, dropout=0.4, \n",
    "               recurrent_dropout=0.3, return_sequences=True)))\n",
    "\n",
    "w2v_model.add(GlobalMaxPool1D())\n",
    "\n",
    "w2v_model.add(Dropout(0.3))\n",
    "\n",
    "w2v_model.add(Dense(64, activation='relu'))\n",
    "\n",
    "w2v_model.add(Dropout(0.2))\n",
    "\n",
    "# Output layer\n",
    "w2v_model.add(Dense(1, activation='sigmoid'))\n",
    "\n",
    "# Compile model\n",
    "w2v_model.compile(loss='binary_crossentropy', \n",
    "     optimizer=Adam(learning_rate=0.001), \n",
    "     metrics=['accuracy'])"
   ]
  },
  {
   "cell_type": "code",
   "execution_count": 58,
   "metadata": {},
   "outputs": [
    {
     "name": "stdout",
     "output_type": "stream",
     "text": [
      "Model: \"sequential\"\n",
      "_________________________________________________________________\n",
      "Layer (type)                 Output Shape              Param #   \n",
      "=================================================================\n",
      "embedding (Embedding)        (None, 1341, 300)         8833500   \n",
      "_________________________________________________________________\n",
      "bidirectional (Bidirectional (None, 1341, 256)         439296    \n",
      "_________________________________________________________________\n",
      "global_max_pooling1d (Global (None, 256)               0         \n",
      "_________________________________________________________________\n",
      "dropout (Dropout)            (None, 256)               0         \n",
      "_________________________________________________________________\n",
      "dense (Dense)                (None, 64)                16448     \n",
      "_________________________________________________________________\n",
      "dropout_1 (Dropout)          (None, 64)                0         \n",
      "_________________________________________________________________\n",
      "dense_1 (Dense)              (None, 1)                 65        \n",
      "=================================================================\n",
      "Total params: 9,289,309\n",
      "Trainable params: 455,809\n",
      "Non-trainable params: 8,833,500\n",
      "_________________________________________________________________\n"
     ]
    }
   ],
   "source": [
    "w2v_model.summary()"
   ]
  },
  {
   "cell_type": "code",
   "execution_count": 59,
   "metadata": {},
   "outputs": [
    {
     "name": "stdout",
     "output_type": "stream",
     "text": [
      "Train on 35625 samples, validate on 11875 samples\n",
      "Epoch 1/10\n"
     ]
    },
    {
     "name": "stderr",
     "output_type": "stream",
     "text": [
      "/Users/josephking/PythonVirtualEnv/IMDB_movie_sentiment/lib/python3.7/site-packages/tensorflow/python/keras/engine/training.py:2325: UserWarning: `Model.state_updates` will be removed in a future version. This property should not be used in TensorFlow 2.0, as `updates` are applied automatically.\n",
      "  warnings.warn('`Model.state_updates` will be removed in a future version. '\n"
     ]
    },
    {
     "name": "stdout",
     "output_type": "stream",
     "text": [
      "35625/35625 - 2217s - loss: 0.4137 - accuracy: 0.8089 - val_loss: 0.3369 - val_accuracy: 0.8557\n",
      "Epoch 2/10\n",
      "35625/35625 - 2263s - loss: 0.3304 - accuracy: 0.8570 - val_loss: 0.2976 - val_accuracy: 0.8753\n",
      "Epoch 3/10\n",
      "35625/35625 - 2271s - loss: 0.3053 - accuracy: 0.8702 - val_loss: 0.2803 - val_accuracy: 0.8819\n",
      "Epoch 4/10\n",
      "35625/35625 - 2252s - loss: 0.2883 - accuracy: 0.8787 - val_loss: 0.2714 - val_accuracy: 0.8891\n",
      "Epoch 5/10\n",
      "35625/35625 - 2230s - loss: 0.2753 - accuracy: 0.8858 - val_loss: 0.2683 - val_accuracy: 0.8860\n",
      "Epoch 6/10\n",
      "35625/35625 - 2228s - loss: 0.2614 - accuracy: 0.8915 - val_loss: 0.2630 - val_accuracy: 0.8922\n",
      "Epoch 7/10\n",
      "35625/35625 - 2252s - loss: 0.2510 - accuracy: 0.8966 - val_loss: 0.2564 - val_accuracy: 0.8936\n",
      "Epoch 8/10\n",
      "35625/35625 - 2271s - loss: 0.2393 - accuracy: 0.9013 - val_loss: 0.2641 - val_accuracy: 0.8900\n",
      "Epoch 9/10\n",
      "35625/35625 - 2272s - loss: 0.2287 - accuracy: 0.9068 - val_loss: 0.2482 - val_accuracy: 0.8987\n",
      "Epoch 10/10\n",
      "35625/35625 - 2272s - loss: 0.2188 - accuracy: 0.9120 - val_loss: 0.2524 - val_accuracy: 0.8979\n"
     ]
    }
   ],
   "source": [
    "w2v_hist = w2v_model.fit(X_train_pad, \n",
    "              y_train, \n",
    "              batch_size=64, \n",
    "              validation_split=0.25,\n",
    "              verbose=2,\n",
    "              epochs=10,\n",
    "              use_multiprocessing=True,\n",
    "              callbacks=[EarlyStopping(patience=2, restore_best_weights=True)])"
   ]
  },
  {
   "cell_type": "code",
   "execution_count": 60,
   "metadata": {},
   "outputs": [
    {
     "data": {
      "image/png": "[encoded data removed]",
      "text/plain": [
       "<Figure size 576x432 with 1 Axes>"
      ]
     },
     "metadata": {},
     "output_type": "display_data"
    }
   ],
   "source": [
    "plot_model_performance(w2v_model)"
   ]
  },
  {
   "cell_type": "code",
   "execution_count": 61,
   "metadata": {},
   "outputs": [
    {
     "name": "stdout",
     "output_type": "stream",
     "text": [
      "{'accuracy': 0.9052, 'sensitivity': 0.9195, 'specificity': 0.891, 'precision': 0.893, 'f1': 0.9061, 'roc_auc': 0.9053}\n"
     ]
    }
   ],
   "source": [
    "pred_w2v = w2v_model.predict(X_test_pad).flatten() # flatten from 2d to 1d array\n",
    "pred_w2v = pd.Series(pred_w2v).apply(lambda x: 1 if x > 0.5 else 0)\n",
    "metrics_dict['w2v_lstm'] = metrics(y_test, pred_w2v)\n",
    "print(metrics_dict['w2v_lstm'])"
   ]
  },
  {
   "cell_type": "markdown",
   "metadata": {},
   "source": [
    "Compared to the base LSTM model with no pretrained embeddings, performance in the validation set continues to improve for several epochs with Word2Vec embeddings. This is entirely attributable to the embeddings layer being set as untrainable, enabling the rest of the model to continue learning generalizable information. Test set accuracy is also higher with Word2Vec embeddings at 90.5%, compared to 89.4% using no pretrained embeddings."
   ]
  },
  {
   "cell_type": "markdown",
   "metadata": {},
   "source": [
    "### GloVe embeddings"
   ]
  },
  {
   "cell_type": "code",
   "execution_count": 62,
   "metadata": {},
   "outputs": [
    {
     "name": "stderr",
     "output_type": "stream",
     "text": [
      " 25%|██▌       | 7421/29444 [00:00<00:00, 74205.47it/s]"
     ]
    },
    {
     "name": "stdout",
     "output_type": "stream",
     "text": [
      "Embedding dictionary contains 400,001 unique entries\n"
     ]
    },
    {
     "name": "stderr",
     "output_type": "stream",
     "text": [
      "100%|██████████| 29444/29444 [00:00<00:00, 99617.00it/s]\n"
     ]
    }
   ],
   "source": [
    "glove_vector_dims = 300\n",
    "glove_embedding_dict = get_word_embeddings('glove')\n",
    "glove_embedding_matrix = create_embedding_matrix(glove_embedding_dict, word_index, glove_vector_dims)"
   ]
  },
  {
   "cell_type": "markdown",
   "metadata": {},
   "source": [
    "#### Overlap between X_train and GloVe file"
   ]
  },
  {
   "cell_type": "code",
   "execution_count": 63,
   "metadata": {},
   "outputs": [
    {
     "name": "stdout",
     "output_type": "stream",
     "text": [
      "Share of overlapping words in X_train: 90.8%\n",
      "Share of overlapping words in X_test: 94.3%\n"
     ]
    }
   ],
   "source": [
    "intersection_train = [i for i in word_index.keys() if i in glove_embedding_dict.keys()]\n",
    "intersection_test = [i for i in word_index_test.keys() if i in glove_embedding_dict.keys()]\n",
    "\n",
    "print('Share of overlapping words in X_train: {}%'.format(round((len(intersection_train)/len(word_index)*100), 1)))\n",
    "print('Share of overlapping words in X_test: {}%'.format(round((len(intersection_test)/len(word_index_test)*100), 1)))"
   ]
  },
  {
   "cell_type": "markdown",
   "metadata": {},
   "source": [
    "#### Train a model using GloVe embeddings"
   ]
  },
  {
   "cell_type": "code",
   "execution_count": 64,
   "metadata": {},
   "outputs": [],
   "source": [
    "clear_session()\n",
    "\n",
    "glove_model = Sequential()\n",
    "\n",
    "glove_model.add(Embedding(input_dim=len(word_index)+1, \n",
    "                  output_dim=glove_vector_dims,\n",
    "                  input_length=max_words_sequence, \n",
    "                  embeddings_initializer=Constant(glove_embedding_matrix),\n",
    "                  trainable=False))\n",
    "\n",
    "glove_model.add(Bidirectional(LSTM(units=128, dropout=0.4, \n",
    "               recurrent_dropout=0.3, return_sequences=True)))\n",
    "\n",
    "glove_model.add(GlobalMaxPool1D())\n",
    "\n",
    "glove_model.add(Dropout(0.3))\n",
    "\n",
    "glove_model.add(Dense(64, activation='relu'))\n",
    "\n",
    "glove_model.add(Dropout(0.2))\n",
    "\n",
    "# Output layer\n",
    "glove_model.add(Dense(1, activation='sigmoid'))\n",
    "\n",
    "# Compile model\n",
    "glove_model.compile(loss='binary_crossentropy', \n",
    "     optimizer=Adam(learning_rate=0.001), \n",
    "     metrics=['accuracy'])"
   ]
  },
  {
   "cell_type": "code",
   "execution_count": 65,
   "metadata": {},
   "outputs": [
    {
     "name": "stdout",
     "output_type": "stream",
     "text": [
      "Model: \"sequential\"\n",
      "_________________________________________________________________\n",
      "Layer (type)                 Output Shape              Param #   \n",
      "=================================================================\n",
      "embedding (Embedding)        (None, 1341, 300)         8833500   \n",
      "_________________________________________________________________\n",
      "bidirectional (Bidirectional (None, 1341, 256)         439296    \n",
      "_________________________________________________________________\n",
      "global_max_pooling1d (Global (None, 256)               0         \n",
      "_________________________________________________________________\n",
      "dropout (Dropout)            (None, 256)               0         \n",
      "_________________________________________________________________\n",
      "dense (Dense)                (None, 64)                16448     \n",
      "_________________________________________________________________\n",
      "dropout_1 (Dropout)          (None, 64)                0         \n",
      "_________________________________________________________________\n",
      "dense_1 (Dense)              (None, 1)                 65        \n",
      "=================================================================\n",
      "Total params: 9,289,309\n",
      "Trainable params: 455,809\n",
      "Non-trainable params: 8,833,500\n",
      "_________________________________________________________________\n"
     ]
    }
   ],
   "source": [
    "glove_model.summary()"
   ]
  },
  {
   "cell_type": "code",
   "execution_count": 66,
   "metadata": {},
   "outputs": [
    {
     "name": "stdout",
     "output_type": "stream",
     "text": [
      "Train on 35625 samples, validate on 11875 samples\n",
      "Epoch 1/10\n"
     ]
    },
    {
     "name": "stderr",
     "output_type": "stream",
     "text": [
      "/Users/josephking/PythonVirtualEnv/IMDB_movie_sentiment/lib/python3.7/site-packages/tensorflow/python/keras/engine/training.py:2325: UserWarning: `Model.state_updates` will be removed in a future version. This property should not be used in TensorFlow 2.0, as `updates` are applied automatically.\n",
      "  warnings.warn('`Model.state_updates` will be removed in a future version. '\n"
     ]
    },
    {
     "name": "stdout",
     "output_type": "stream",
     "text": [
      "35625/35625 - 2221s - loss: 0.4221 - accuracy: 0.8035 - val_loss: 0.3241 - val_accuracy: 0.8639\n",
      "Epoch 2/10\n",
      "35625/35625 - 2237s - loss: 0.3364 - accuracy: 0.8554 - val_loss: 0.3159 - val_accuracy: 0.8682\n",
      "Epoch 3/10\n",
      "35625/35625 - 2259s - loss: 0.3062 - accuracy: 0.8685 - val_loss: 0.2977 - val_accuracy: 0.8744\n",
      "Epoch 4/10\n",
      "35625/35625 - 2272s - loss: 0.2905 - accuracy: 0.8780 - val_loss: 0.2836 - val_accuracy: 0.8819\n",
      "Epoch 5/10\n",
      "35625/35625 - 2233s - loss: 0.2717 - accuracy: 0.8874 - val_loss: 0.2952 - val_accuracy: 0.8717\n",
      "Epoch 6/10\n",
      "35625/35625 - 2242s - loss: 0.2516 - accuracy: 0.8969 - val_loss: 0.2600 - val_accuracy: 0.8939\n",
      "Epoch 7/10\n",
      "35625/35625 - 2250s - loss: 0.2378 - accuracy: 0.9032 - val_loss: 0.2500 - val_accuracy: 0.8974\n",
      "Epoch 8/10\n",
      "35625/35625 - 2254s - loss: 0.2223 - accuracy: 0.9105 - val_loss: 0.2654 - val_accuracy: 0.8876\n",
      "Epoch 9/10\n",
      "35625/35625 - 2248s - loss: 0.2107 - accuracy: 0.9148 - val_loss: 0.2683 - val_accuracy: 0.8882\n"
     ]
    }
   ],
   "source": [
    "glove_hist = glove_model.fit(X_train_pad, \n",
    "              y_train, \n",
    "              batch_size=64, \n",
    "              validation_split=0.25,\n",
    "              verbose=2,\n",
    "              epochs=10,\n",
    "              use_multiprocessing=True,\n",
    "              callbacks=[EarlyStopping(patience=2, restore_best_weights=True)])"
   ]
  },
  {
   "cell_type": "code",
   "execution_count": 67,
   "metadata": {},
   "outputs": [
    {
     "data": {
      "image/png": "[encoded data removed]",
      "text/plain": [
       "<Figure size 576x432 with 1 Axes>"
      ]
     },
     "metadata": {},
     "output_type": "display_data"
    }
   ],
   "source": [
    "plot_model_performance(glove_model)"
   ]
  },
  {
   "cell_type": "code",
   "execution_count": 68,
   "metadata": {},
   "outputs": [
    {
     "name": "stdout",
     "output_type": "stream",
     "text": [
      "{'accuracy': 0.9064, 'sensitivity': 0.9107, 'specificity': 0.9021, 'precision': 0.902, 'f1': 0.9063, 'roc_auc': 0.9064}\n"
     ]
    }
   ],
   "source": [
    "pred_glove = glove_model.predict(X_test_pad).flatten() # flatten from 2d to 1d array\n",
    "pred_glove = pd.Series(pred_glove).apply(lambda x: 1 if x > 0.5 else 0)\n",
    "metrics_dict['glove_lstm'] = metrics(y_test, pred_glove)\n",
    "print(metrics_dict['glove_lstm'])"
   ]
  },
  {
   "cell_type": "markdown",
   "metadata": {},
   "source": [
    "### fastText embeddings"
   ]
  },
  {
   "cell_type": "markdown",
   "metadata": {},
   "source": [
    "#### Embedding dictionary and embedding matrix"
   ]
  },
  {
   "cell_type": "code",
   "execution_count": 80,
   "metadata": {},
   "outputs": [
    {
     "name": "stderr",
     "output_type": "stream",
     "text": [
      " 36%|███▋      | 10685/29444 [00:00<00:00, 106840.42it/s]"
     ]
    },
    {
     "name": "stdout",
     "output_type": "stream",
     "text": [
      "Embedding dictionary contains 999,995 unique entries\n"
     ]
    },
    {
     "name": "stderr",
     "output_type": "stream",
     "text": [
      "100%|██████████| 29444/29444 [00:00<00:00, 148090.12it/s]\n"
     ]
    }
   ],
   "source": [
    "fast_vector_dims = 300\n",
    "fast_embedding_dict = get_word_embeddings('fasttext')\n",
    "fast_embedding_matrix = create_embedding_matrix(fast_embedding_dict, word_index, fast_vector_dims)"
   ]
  },
  {
   "cell_type": "markdown",
   "metadata": {},
   "source": [
    "#### Overlap between X_train and fastText file"
   ]
  },
  {
   "cell_type": "code",
   "execution_count": null,
   "metadata": {},
   "outputs": [
    {
     "name": "stdout",
     "output_type": "stream",
     "text": [
      "Share of overlapping words in X_train: 80.5%\n",
      "Share of overlapping words in X_test: 87.5%\n"
     ]
    }
   ],
   "source": [
    "intersection_train = [i for i in word_index.keys() if i in fast_embedding_dict.keys()]\n",
    "intersection_test = [i for i in word_index_test.keys() if i in fast_embedding_dict.keys()]\n",
    "\n",
    "print('Share of overlapping words in X_train: {}%'.format(round((len(intersection_train)/len(word_index)*100), 1)))\n",
    "print('Share of overlapping words in X_test: {}%'.format(round((len(intersection_test)/len(word_index_test)*100), 1)))"
   ]
  },
  {
   "cell_type": "markdown",
   "metadata": {},
   "source": [
    "#### Train a model using fastText embeddings"
   ]
  },
  {
   "cell_type": "code",
   "execution_count": null,
   "metadata": {},
   "outputs": [],
   "source": [
    "clear_session()\n",
    "\n",
    "fast_model = Sequential()\n",
    "\n",
    "fast_model.add(Embedding(input_dim=len(word_index)+1, \n",
    "                  output_dim=fast_vector_dims,\n",
    "                  input_length=max_words_sequence, \n",
    "                  embeddings_initializer=Constant(fast_embedding_matrix),\n",
    "                  trainable=False))\n",
    "\n",
    "fast_model.add(Bidirectional(LSTM(units=128, dropout=0.4, \n",
    "               recurrent_dropout=0.3, return_sequences=True)))\n",
    "\n",
    "fast_model.add(GlobalMaxPool1D())\n",
    "\n",
    "fast_model.add(Dropout(0.3))\n",
    "\n",
    "fast_model.add(Dense(64, activation='relu'))\n",
    "\n",
    "fast_model.add(Dropout(0.2))\n",
    "\n",
    "# Output layer\n",
    "fast_model.add(Dense(1, activation='sigmoid'))\n",
    "\n",
    "# Compile model\n",
    "fast_model.compile(loss='binary_crossentropy', \n",
    "     optimizer=Adam(learning_rate=0.001), \n",
    "     metrics=['accuracy'])"
   ]
  },
  {
   "cell_type": "code",
   "execution_count": 79,
   "metadata": {},
   "outputs": [
    {
     "name": "stdout",
     "output_type": "stream",
     "text": [
      "Model: \"sequential\"\n",
      "_________________________________________________________________\n",
      "Layer (type)                 Output Shape              Param #   \n",
      "=================================================================\n",
      "embedding (Embedding)        (None, 1341, 300)         8833500   \n",
      "_________________________________________________________________\n",
      "bidirectional (Bidirectional (None, 1341, 256)         439296    \n",
      "_________________________________________________________________\n",
      "global_max_pooling1d (Global (None, 256)               0         \n",
      "_________________________________________________________________\n",
      "dropout (Dropout)            (None, 256)               0         \n",
      "_________________________________________________________________\n",
      "dense (Dense)                (None, 64)                16448     \n",
      "_________________________________________________________________\n",
      "dropout_1 (Dropout)          (None, 64)                0         \n",
      "_________________________________________________________________\n",
      "dense_1 (Dense)              (None, 1)                 65        \n",
      "=================================================================\n",
      "Total params: 9,289,309\n",
      "Trainable params: 455,809\n",
      "Non-trainable params: 8,833,500\n",
      "_________________________________________________________________\n"
     ]
    }
   ],
   "source": [
    "fast_model.summary()"
   ]
  },
  {
   "cell_type": "code",
   "execution_count": null,
   "metadata": {},
   "outputs": [
    {
     "name": "stdout",
     "output_type": "stream",
     "text": [
      "Train on 35625 samples, validate on 11875 samples\n",
      "Epoch 1/10\n"
     ]
    },
    {
     "name": "stderr",
     "output_type": "stream",
     "text": [
      "/Users/josephking/PythonVirtualEnv/IMDB_movie_sentiment/lib/python3.7/site-packages/tensorflow/python/keras/engine/training.py:2325: UserWarning: `Model.state_updates` will be removed in a future version. This property should not be used in TensorFlow 2.0, as `updates` are applied automatically.\n",
      "  warnings.warn('`Model.state_updates` will be removed in a future version. '\n"
     ]
    },
    {
     "name": "stdout",
     "output_type": "stream",
     "text": [
      "35625/35625 - 2161s - loss: 0.4191 - accuracy: 0.8053 - val_loss: 0.3174 - val_accuracy: 0.8665\n",
      "Epoch 2/10\n",
      "35625/35625 - 2164s - loss: 0.3289 - accuracy: 0.8593 - val_loss: 0.2947 - val_accuracy: 0.8798\n",
      "Epoch 3/10\n",
      "35625/35625 - 2185s - loss: 0.3085 - accuracy: 0.8687 - val_loss: 0.2916 - val_accuracy: 0.8772\n",
      "Epoch 4/10\n",
      "35625/35625 - 2173s - loss: 0.2911 - accuracy: 0.8783 - val_loss: 0.2846 - val_accuracy: 0.8842\n",
      "Epoch 5/10\n",
      "35625/35625 - 2186s - loss: 0.2761 - accuracy: 0.8854 - val_loss: 0.2599 - val_accuracy: 0.8938\n",
      "Epoch 6/10\n",
      "35625/35625 - 2189s - loss: 0.2637 - accuracy: 0.8923 - val_loss: 0.2568 - val_accuracy: 0.8956\n",
      "Epoch 7/10\n",
      "35625/35625 - 2175s - loss: 0.2531 - accuracy: 0.8963 - val_loss: 0.2498 - val_accuracy: 0.8979\n",
      "Epoch 8/10\n",
      "35625/35625 - 2179s - loss: 0.2469 - accuracy: 0.8989 - val_loss: 0.2537 - val_accuracy: 0.8958\n",
      "Epoch 9/10\n",
      "35625/35625 - 2177s - loss: 0.2330 - accuracy: 0.9041 - val_loss: 0.2415 - val_accuracy: 0.9013\n",
      "Epoch 10/10\n",
      "35625/35625 - 2180s - loss: 0.2277 - accuracy: 0.9067 - val_loss: 0.2393 - val_accuracy: 0.9032\n"
     ]
    }
   ],
   "source": [
    "fast_hist = fast_model.fit(X_train_pad, \n",
    "              y_train, \n",
    "              batch_size=64, \n",
    "              validation_split=0.25,\n",
    "              verbose=2,\n",
    "              epochs=10,\n",
    "              use_multiprocessing=True,\n",
    "              callbacks=[EarlyStopping(patience=2, restore_best_weights=True)])"
   ]
  },
  {
   "cell_type": "code",
   "execution_count": null,
   "metadata": {},
   "outputs": [
    {
     "data": {
      "image/png": "[encoded data removed]",
      "text/plain": [
       "<Figure size 576x432 with 1 Axes>"
      ]
     },
     "metadata": {},
     "output_type": "display_data"
    }
   ],
   "source": [
    "plot_model_performance(fast_model)"
   ]
  },
  {
   "cell_type": "code",
   "execution_count": null,
   "metadata": {},
   "outputs": [
    {
     "name": "stdout",
     "output_type": "stream",
     "text": [
      "{'accuracy': 0.9032, 'sensitivity': 0.885, 'specificity': 0.9212, 'precision': 0.9174, 'f1': 0.9009, 'roc_auc': 0.9031}\n"
     ]
    }
   ],
   "source": [
    "pred_fast = fast_model.predict(X_test_pad).flatten() # flatten from 2d to 1d array\n",
    "pred_fast = pd.Series(pred_fast).apply(lambda x: 1 if x > 0.5 else 0)\n",
    "metrics_dict['fast_lstm'] = metrics(y_test, pred_fast)\n",
    "print(metrics_dict['fast_lstm'])"
   ]
  },
  {
   "cell_type": "markdown",
   "metadata": {},
   "source": [
    "### Comparing performance across word embeddings"
   ]
  },
  {
   "cell_type": "code",
   "execution_count": null,
   "metadata": {},
   "outputs": [
    {
     "data": {
      "image/png": "[encoded data removed]",
      "text/plain": [
       "<Figure size 720x504 with 1 Axes>"
      ]
     },
     "metadata": {},
     "output_type": "display_data"
    }
   ],
   "source": [
    "models = ['base_lstm', 'w2v_lstm', 'glove_lstm', 'fast_lstm']\n",
    "plt.figure(figsize=(10,7))\n",
    "plt.plot(models, [metrics_dict[i]['accuracy'] for i in models], label='Accuracy')\n",
    "plt.plot(models, [metrics_dict[i]['sensitivity'] for i in models], label='Sensitivity')\n",
    "plt.plot(models, [metrics_dict[i]['specificity'] for i in models], label='Specificity')\n",
    "plt.legend(loc=8, bbox_to_anchor=(0.5, -0.2), ncol=3)\n",
    "plt.xlabel('Model')\n",
    "plt.ylabel('Share correctly classified')\n",
    "plt.title('Performance in test set by word embedding type')\n",
    "plt.show()"
   ]
  },
  {
   "cell_type": "markdown",
   "metadata": {},
   "source": [
    "The figure above compares test set performance across word embeddings models. With the exception of the base model, performance is fairly similar for Word2Vec, GloVe, and fastText. Slight differences exist, however; Word2Vec and Glove exhibit the best accuracy in the test set. The base model and Word2Vec correctly identify the greatest share of true positive reviews (sensitivity), while fastText identifies the largest proportion of true negative reviews (specificity). Overall, this indicates that all three word embeddings types perform very well in classifying sentiment for this dataset, with the correctly specified deep learning model."
   ]
  },
  {
   "cell_type": "markdown",
   "metadata": {},
   "source": [
    "### Validation set loss across by word embedding type"
   ]
  },
  {
   "cell_type": "code",
   "execution_count": 78,
   "metadata": {},
   "outputs": [
    {
     "data": {
      "image/png": "[encoded data removed]",
      "text/plain": [
       "<Figure size 720x504 with 1 Axes>"
      ]
     },
     "metadata": {},
     "output_type": "display_data"
    }
   ],
   "source": [
    "plt.figure(figsize=(10,7))\n",
    "plt.plot(range(1,len(base_hist.history['val_loss'])+1), base_hist.history['val_loss'], label='Base')\n",
    "plt.plot(range(1,len(w2v_hist.history['val_loss'])+1), w2v_hist.history['val_loss'], label='Word2Vec')\n",
    "plt.plot(range(1,len(glove_hist.history['val_loss'])+1), glove_hist.history['val_loss'], label='GloVe')\n",
    "plt.plot(range(1,len(fast_hist.history['val_loss'])+1), fast_hist.history['val_loss'], label='fastText')\n",
    "plt.legend()\n",
    "plt.xlabel(\"Epoch\")\n",
    "plt.ylabel(\"Binary Cross-Entropy\")\n",
    "plt.title(\"Validation set loss by epoch across word embedding types\")\n",
    "plt.ticklabel_format(style='plain', axis='x', useOffset=False)\n",
    "plt.gca().xaxis.set_major_locator(mticker.MultipleLocator(1))\n",
    "plt.show()"
   ]
  },
  {
   "cell_type": "markdown",
   "metadata": {},
   "source": [
    "Comparing validation set loss across epochs illuminates differences in how quickly eacy word embeddings type learns generalizable information. In the figure above we see that learning progresses mostly quickly and smoothly for Word2Vec and fastText. By comparison, learning is less stable for GloVe embeddings. A smaller initial learning rate or different set of adaptive learning rate hyperparameters might therefore be advantageous to GloVe (though at the potential cost of slower learning and more epochs). "
   ]
  }
 ],
 "metadata": {
  "kernelspec": {
   "display_name": "Python 3",
   "language": "python",
   "name": "python3"
  },
  "language_info": {
   "codemirror_mode": {
    "name": "ipython",
    "version": 3
   },
   "file_extension": ".py",
   "mimetype": "text/x-python",
   "name": "python",
   "nbconvert_exporter": "python",
   "pygments_lexer": "ipython3",
   "version": "3.7.4"
  }
 },
 "nbformat": 4,
 "nbformat_minor": 4
}
